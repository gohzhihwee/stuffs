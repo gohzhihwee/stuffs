{
  "nbformat": 4,
  "nbformat_minor": 0,
  "metadata": {
    "colab": {
      "provenance": [],
      "authorship_tag": "ABX9TyP5FRxtU1ckxDewHMctggCL",
      "include_colab_link": true
    },
    "kernelspec": {
      "name": "python3",
      "display_name": "Python 3"
    },
    "language_info": {
      "name": "python"
    }
  },
  "cells": [
    {
      "cell_type": "markdown",
      "metadata": {
        "id": "view-in-github",
        "colab_type": "text"
      },
      "source": [
        "<a href=\"https://colab.research.google.com/github/gohzhihwee/stuffs/blob/main/stats_models_for_finance_pt2.ipynb\" target=\"_parent\"><img src=\"https://colab.research.google.com/assets/colab-badge.svg\" alt=\"Open In Colab\"/></a>"
      ]
    },
    {
      "cell_type": "code",
      "source": [
        "# Install if libs not yet installed\n",
        "! pip install arch\n",
        "! pip install filterpy"
      ],
      "metadata": {
        "id": "bbEP86CmyIae",
        "colab": {
          "base_uri": "https://localhost:8080/"
        },
        "outputId": "6f7d15b7-1300-441c-bbe2-bd3ce2a66f6f"
      },
      "execution_count": null,
      "outputs": [
        {
          "output_type": "stream",
          "name": "stdout",
          "text": [
            "Collecting arch\n",
            "  Downloading arch-7.0.0-cp310-cp310-manylinux_2_17_x86_64.manylinux2014_x86_64.whl (983 kB)\n",
            "\u001b[2K     \u001b[90m━━━━━━━━━━━━━━━━━━━━━━━━━━━━━━━━━━━━━━━━\u001b[0m \u001b[32m983.4/983.4 kB\u001b[0m \u001b[31m5.3 MB/s\u001b[0m eta \u001b[36m0:00:00\u001b[0m\n",
            "\u001b[?25hRequirement already satisfied: numpy>=1.22.3 in /usr/local/lib/python3.10/dist-packages (from arch) (1.25.2)\n",
            "Requirement already satisfied: scipy>=1.8 in /usr/local/lib/python3.10/dist-packages (from arch) (1.11.4)\n",
            "Requirement already satisfied: pandas>=1.4 in /usr/local/lib/python3.10/dist-packages (from arch) (2.0.3)\n",
            "Requirement already satisfied: statsmodels>=0.12 in /usr/local/lib/python3.10/dist-packages (from arch) (0.14.2)\n",
            "Requirement already satisfied: python-dateutil>=2.8.2 in /usr/local/lib/python3.10/dist-packages (from pandas>=1.4->arch) (2.8.2)\n",
            "Requirement already satisfied: pytz>=2020.1 in /usr/local/lib/python3.10/dist-packages (from pandas>=1.4->arch) (2023.4)\n",
            "Requirement already satisfied: tzdata>=2022.1 in /usr/local/lib/python3.10/dist-packages (from pandas>=1.4->arch) (2024.1)\n",
            "Requirement already satisfied: patsy>=0.5.6 in /usr/local/lib/python3.10/dist-packages (from statsmodels>=0.12->arch) (0.5.6)\n",
            "Requirement already satisfied: packaging>=21.3 in /usr/local/lib/python3.10/dist-packages (from statsmodels>=0.12->arch) (24.1)\n",
            "Requirement already satisfied: six in /usr/local/lib/python3.10/dist-packages (from patsy>=0.5.6->statsmodels>=0.12->arch) (1.16.0)\n",
            "Installing collected packages: arch\n",
            "Successfully installed arch-7.0.0\n",
            "Collecting filterpy\n",
            "  Downloading filterpy-1.4.5.zip (177 kB)\n",
            "\u001b[2K     \u001b[90m━━━━━━━━━━━━━━━━━━━━━━━━━━━━━━━━━━━━━━━━\u001b[0m \u001b[32m178.0/178.0 kB\u001b[0m \u001b[31m1.1 MB/s\u001b[0m eta \u001b[36m0:00:00\u001b[0m\n",
            "\u001b[?25h  Preparing metadata (setup.py) ... \u001b[?25l\u001b[?25hdone\n",
            "Requirement already satisfied: numpy in /usr/local/lib/python3.10/dist-packages (from filterpy) (1.25.2)\n",
            "Requirement already satisfied: scipy in /usr/local/lib/python3.10/dist-packages (from filterpy) (1.11.4)\n",
            "Requirement already satisfied: matplotlib in /usr/local/lib/python3.10/dist-packages (from filterpy) (3.7.1)\n",
            "Requirement already satisfied: contourpy>=1.0.1 in /usr/local/lib/python3.10/dist-packages (from matplotlib->filterpy) (1.2.1)\n",
            "Requirement already satisfied: cycler>=0.10 in /usr/local/lib/python3.10/dist-packages (from matplotlib->filterpy) (0.12.1)\n",
            "Requirement already satisfied: fonttools>=4.22.0 in /usr/local/lib/python3.10/dist-packages (from matplotlib->filterpy) (4.53.0)\n",
            "Requirement already satisfied: kiwisolver>=1.0.1 in /usr/local/lib/python3.10/dist-packages (from matplotlib->filterpy) (1.4.5)\n",
            "Requirement already satisfied: packaging>=20.0 in /usr/local/lib/python3.10/dist-packages (from matplotlib->filterpy) (24.1)\n",
            "Requirement already satisfied: pillow>=6.2.0 in /usr/local/lib/python3.10/dist-packages (from matplotlib->filterpy) (9.4.0)\n",
            "Requirement already satisfied: pyparsing>=2.3.1 in /usr/local/lib/python3.10/dist-packages (from matplotlib->filterpy) (3.1.2)\n",
            "Requirement already satisfied: python-dateutil>=2.7 in /usr/local/lib/python3.10/dist-packages (from matplotlib->filterpy) (2.8.2)\n",
            "Requirement already satisfied: six>=1.5 in /usr/local/lib/python3.10/dist-packages (from python-dateutil>=2.7->matplotlib->filterpy) (1.16.0)\n",
            "Building wheels for collected packages: filterpy\n",
            "  Building wheel for filterpy (setup.py) ... \u001b[?25l\u001b[?25hdone\n",
            "  Created wheel for filterpy: filename=filterpy-1.4.5-py3-none-any.whl size=110458 sha256=a99f95e1bfaa386931a828cb8a2c5b4901b4ac7ca2a5158ff3c27b1ac5559fca\n",
            "  Stored in directory: /root/.cache/pip/wheels/0f/0c/ea/218f266af4ad626897562199fbbcba521b8497303200186102\n",
            "Successfully built filterpy\n",
            "Installing collected packages: filterpy\n",
            "Successfully installed filterpy-1.4.5\n"
          ]
        }
      ]
    },
    {
      "cell_type": "code",
      "execution_count": null,
      "metadata": {
        "id": "Z1AO2CnncgY4"
      },
      "outputs": [],
      "source": [
        "# Importing Python libraries\n",
        "import numpy as np\n",
        "from datetime import datetime\n",
        "from matplotlib import pyplot as plt\n",
        "import pandas as pd\n",
        "import statsmodels.api as sm\n",
        "import statsmodels.formula.api as smf\n",
        "import statsmodels.stats.api as sms\n",
        "import seaborn as sns\n",
        "from sklearn import preprocessing\n",
        "from sklearn.decomposition import PCA\n",
        "import scipy.stats as stats\n",
        "import pylab\n",
        "from arch.unitroot import ADF\n",
        "from arch.unitroot.cointegration import phillips_ouliaris\n",
        "from statsmodels.stats.stattools import durbin_watson\n",
        "from statsmodels.tsa.ardl import UECM\n",
        "from scipy.stats import kurtosis\n",
        "from scipy.stats import skewnorm\n",
        "from datetime import datetime\n",
        "from statsmodels.tsa.stattools import grangercausalitytests\n",
        "from filterpy.kalman import KalmanFilter\n",
        "from filterpy.common import Q_discrete_white_noise"
      ]
    },
    {
      "cell_type": "markdown",
      "source": [
        "# **Concept 1: Multicollinearity**"
      ],
      "metadata": {
        "id": "icGNppr94BDz"
      }
    },
    {
      "cell_type": "markdown",
      "source": [
        "# **Definition**"
      ],
      "metadata": {
        "id": "caV_jcNR4GYM"
      }
    },
    {
      "cell_type": "markdown",
      "source": [
        "A phenomenon in which multiple variables in a modelling scenario (> 2) are linearly correlated to each other."
      ],
      "metadata": {
        "id": "Lq_t6caw4Iwo"
      }
    },
    {
      "cell_type": "markdown",
      "source": [
        "# **Description**"
      ],
      "metadata": {
        "id": "GjUidnmn4Lic"
      }
    },
    {
      "cell_type": "markdown",
      "source": [
        "In a complex modelling scenario with numerous variables, the assumption that the variables are independent of each other aside from being correlated to the target (independent) variable does not necessarily hold true. The measured variables contributing to the target value can be correlated to each other as well, making for a more complex system of equations that one needs to consider when modelling such a scenario.\n",
        "\n",
        "There isn't a single equation to specifically calculate multicollinearity in regression analysis. One of the most commonly used approaches to measure multicollinearity is calculating the Variance Inflation Factor (VIF) for each independent variable in the model using the formula\n",
        "\n",
        "$VIF_i=\\frac{1}{1-{R_i}^2}$\n",
        "\n",
        "where ${R_i}^2$ is the unadjusted coefficient of determination for regressing the ith independent variable on the remaining ones. If\n",
        "\n",
        "  \\begin{equation}\n",
        "    VIF_i=\n",
        "    \\begin{cases}\n",
        "      1, & \\text{variables are uncorrelated} \\\\\n",
        "      ∈(1,5), & \\text{variables are moderately correlated} \\\\\n",
        "      5, & \\text{variables are highly correlated}\n",
        "    \\end{cases}\n",
        "  \\end{equation}"
      ],
      "metadata": {
        "id": "zL0P9WqH4OC7"
      }
    },
    {
      "cell_type": "markdown",
      "source": [
        "# **Demonstration**"
      ],
      "metadata": {
        "id": "ADZ9pEyaclE-"
      }
    },
    {
      "cell_type": "markdown",
      "source": [
        "We repurpose for this demonstration our dataset containing a compilation of historical returns on US T-bills, S&P 500 securities, AAA-rated bonds and several other types of securities, curated by the NYU Stern School of Business (NYU Stern School of Business, 2024) and based off of historical FRED records."
      ],
      "metadata": {
        "id": "_JfJOV7jyyIg"
      }
    },
    {
      "cell_type": "code",
      "source": [
        "# In GWP1, we generated a correlation matrix using the Historical\n",
        "# US 10-Year T-Bond Annual Returns and the S&P 500 Daily Returns from the years 1928-2023.\n",
        "# We repurpose it here to demonstrate a test for multicollinearity in the data\n",
        "# The following dataset was curated by NYU Stern School of Business\n",
        "dataset  = pd.read_csv('histretSP_rawreturnsdata.csv').dropna()\n",
        "print(dataset)\n",
        "\n",
        "data = dataset[\n",
        "    [\n",
        "       \"S&P 500\",\n",
        "       \"Dividends\",\n",
        "       \"Dividend Yield\",\n",
        "       \"T.Bond rate\",\n",
        "       \"Return on bond\",\n",
        "       \"Aaa Bond Rate\",\n",
        "       \"Baa Bond Rate\",\n",
        "       \"Returns on Real Estate\"\n",
        "    ]\n",
        "]\n",
        "for col in data.columns:\n",
        "  # print(str(data[col]))\n",
        "  if '%' in str(data[col]):\n",
        "    data[col] = data[col].str.rstrip('%').astype('float') / 100\n",
        "  else:\n",
        "    data[col] = data[col].astype('float')\n",
        "\n",
        "\n",
        "cor = data.corr() # Don't specify the method, we just want the correlation matrix"
      ],
      "metadata": {
        "id": "Xjr0O-n-cnNU",
        "colab": {
          "base_uri": "https://localhost:8080/"
        },
        "outputId": "306f79a2-aa89-4774-b12f-4678399b548d"
      },
      "execution_count": null,
      "outputs": [
        {
          "output_type": "stream",
          "name": "stdout",
          "text": [
            "    Year  S&P 500  Dividends Dividend Yield T.Bond rate Return on bond  \\\n",
            "1   1928    24.35       1.05          4.30%       3.45%          0.84%   \n",
            "2   1929    21.45       0.88          4.10%       3.36%          4.20%   \n",
            "3   1930    15.34       0.72          4.70%       3.22%          4.54%   \n",
            "4   1931     8.12       0.50          6.10%       3.93%         -2.56%   \n",
            "5   1932     6.92       0.50          7.20%       3.35%          8.79%   \n",
            "..   ...      ...        ...            ...         ...            ...   \n",
            "92  2019  3230.78      58.50          1.81%       1.92%          9.64%   \n",
            "93  2020  3756.07      57.00          1.52%       0.93%         11.33%   \n",
            "94  2021  4766.18      59.20          1.24%       1.51%         -4.42%   \n",
            "95  2022  3839.50      66.98          1.74%       3.88%        -17.83%   \n",
            "96  2023  4769.80      70.30          1.47%       3.88%          3.88%   \n",
            "\n",
            "   Aaa Bond Rate Return on Aaa  Baa Bond Rate Return on Baa   \\\n",
            "1          4.61%          3.28%         5.60%          3.22%   \n",
            "2          4.67%          4.14%         5.95%          3.02%   \n",
            "3          4.52%          5.86%         6.71%          0.54%   \n",
            "4          5.32%         -1.56%        10.42%        -15.68%   \n",
            "5          4.59%         11.07%         8.42%         23.59%   \n",
            "..           ...            ...           ...            ...   \n",
            "92         3.04%         12.08%         3.90%         15.25%   \n",
            "93         2.23%         10.23%         3.11%         10.60%   \n",
            "94         2.71%         -1.93%         3.37%          0.93%   \n",
            "95         4.70%        -12.88%         5.87%        -15.14%   \n",
            "96         4.65%          5.09%         5.49%          8.74%   \n",
            "\n",
            "   Returns on Real Estate  \n",
            "1                   1.49%  \n",
            "2                  -2.06%  \n",
            "3                  -4.30%  \n",
            "4                  -8.15%  \n",
            "5                 -10.47%  \n",
            "..                    ...  \n",
            "92                  3.69%  \n",
            "93                 10.43%  \n",
            "94                 18.87%  \n",
            "95                  5.67%  \n",
            "96                  6.29%  \n",
            "\n",
            "[96 rows x 11 columns]\n"
          ]
        },
        {
          "output_type": "stream",
          "name": "stderr",
          "text": [
            "<ipython-input-3-2584156434d7>:25: SettingWithCopyWarning: \n",
            "A value is trying to be set on a copy of a slice from a DataFrame.\n",
            "Try using .loc[row_indexer,col_indexer] = value instead\n",
            "\n",
            "See the caveats in the documentation: https://pandas.pydata.org/pandas-docs/stable/user_guide/indexing.html#returning-a-view-versus-a-copy\n",
            "  data[col] = data[col].astype('float')\n",
            "<ipython-input-3-2584156434d7>:25: SettingWithCopyWarning: \n",
            "A value is trying to be set on a copy of a slice from a DataFrame.\n",
            "Try using .loc[row_indexer,col_indexer] = value instead\n",
            "\n",
            "See the caveats in the documentation: https://pandas.pydata.org/pandas-docs/stable/user_guide/indexing.html#returning-a-view-versus-a-copy\n",
            "  data[col] = data[col].astype('float')\n",
            "<ipython-input-3-2584156434d7>:23: SettingWithCopyWarning: \n",
            "A value is trying to be set on a copy of a slice from a DataFrame.\n",
            "Try using .loc[row_indexer,col_indexer] = value instead\n",
            "\n",
            "See the caveats in the documentation: https://pandas.pydata.org/pandas-docs/stable/user_guide/indexing.html#returning-a-view-versus-a-copy\n",
            "  data[col] = data[col].str.rstrip('%').astype('float') / 100\n",
            "<ipython-input-3-2584156434d7>:23: SettingWithCopyWarning: \n",
            "A value is trying to be set on a copy of a slice from a DataFrame.\n",
            "Try using .loc[row_indexer,col_indexer] = value instead\n",
            "\n",
            "See the caveats in the documentation: https://pandas.pydata.org/pandas-docs/stable/user_guide/indexing.html#returning-a-view-versus-a-copy\n",
            "  data[col] = data[col].str.rstrip('%').astype('float') / 100\n",
            "<ipython-input-3-2584156434d7>:23: SettingWithCopyWarning: \n",
            "A value is trying to be set on a copy of a slice from a DataFrame.\n",
            "Try using .loc[row_indexer,col_indexer] = value instead\n",
            "\n",
            "See the caveats in the documentation: https://pandas.pydata.org/pandas-docs/stable/user_guide/indexing.html#returning-a-view-versus-a-copy\n",
            "  data[col] = data[col].str.rstrip('%').astype('float') / 100\n",
            "<ipython-input-3-2584156434d7>:23: SettingWithCopyWarning: \n",
            "A value is trying to be set on a copy of a slice from a DataFrame.\n",
            "Try using .loc[row_indexer,col_indexer] = value instead\n",
            "\n",
            "See the caveats in the documentation: https://pandas.pydata.org/pandas-docs/stable/user_guide/indexing.html#returning-a-view-versus-a-copy\n",
            "  data[col] = data[col].str.rstrip('%').astype('float') / 100\n",
            "<ipython-input-3-2584156434d7>:23: SettingWithCopyWarning: \n",
            "A value is trying to be set on a copy of a slice from a DataFrame.\n",
            "Try using .loc[row_indexer,col_indexer] = value instead\n",
            "\n",
            "See the caveats in the documentation: https://pandas.pydata.org/pandas-docs/stable/user_guide/indexing.html#returning-a-view-versus-a-copy\n",
            "  data[col] = data[col].str.rstrip('%').astype('float') / 100\n",
            "<ipython-input-3-2584156434d7>:23: SettingWithCopyWarning: \n",
            "A value is trying to be set on a copy of a slice from a DataFrame.\n",
            "Try using .loc[row_indexer,col_indexer] = value instead\n",
            "\n",
            "See the caveats in the documentation: https://pandas.pydata.org/pandas-docs/stable/user_guide/indexing.html#returning-a-view-versus-a-copy\n",
            "  data[col] = data[col].str.rstrip('%').astype('float') / 100\n"
          ]
        }
      ]
    },
    {
      "cell_type": "markdown",
      "source": [
        "# **Diagram**"
      ],
      "metadata": {
        "id": "Ix0zUfxGcoIM"
      }
    },
    {
      "cell_type": "code",
      "source": [
        "sns.heatmap(cor, annot=True, cmap=plt.cm.Reds) # Generate the correlation matrix with annotations\n",
        "plt.show()"
      ],
      "metadata": {
        "id": "Gk1rdS5Fcp2j",
        "colab": {
          "base_uri": "https://localhost:8080/",
          "height": 579
        },
        "outputId": "9ac07bee-fd97-426f-f691-759939e97ba1"
      },
      "execution_count": null,
      "outputs": [
        {
          "output_type": "display_data",
          "data": {
            "text/plain": [
              "<Figure size 640x480 with 2 Axes>"
            ],
            "image/png": "[encoded data removed]"
          },
          "metadata": {}
        }
      ]
    },
    {
      "cell_type": "markdown",
      "source": [
        "We clearly see that multiple nontrivial correlations (> =0.5) relate more than 2 variables in this dataset, e.g. between AAA bond rate, BAA bond rate, S&P 500 and Dividends, to name a few. This tells us that the dataset is highly intercorrelated; multiple linear correlations (likely non-monotonic in nature) and hence multicollinearity exists linking the securities covered in the historical records."
      ],
      "metadata": {
        "id": "mzllWhF_ym4I"
      }
    },
    {
      "cell_type": "markdown",
      "source": [
        "# **Diagnosis**"
      ],
      "metadata": {
        "id": "mzf9fQ144R4y"
      }
    },
    {
      "cell_type": "markdown",
      "source": [
        "Can be diagnosed through generating a correlation matrix of the variables involved (see above demonstration and diagram). Within the correlation matrix, if any correlation coefficient aside from the coefficients relating the independent-dependent variable pair is non-zero, then another variable aside from the independent variable and dependent variable shares a correlation outside of the main linear relationship to be modelled. Collinearity thus exists in the data reflecting the modelling scenario."
      ],
      "metadata": {
        "id": "ebZW0j3Q4UGS"
      }
    },
    {
      "cell_type": "markdown",
      "source": [
        "# **Damage**"
      ],
      "metadata": {
        "id": "GJGr_Et04Yrd"
      }
    },
    {
      "cell_type": "markdown",
      "source": [
        "When multicollinearity exists, the analyst cannot plot a linear regression between a pair of variables without considering the other correlations and expect to get an accurate/reliable result. Steps have to be taken to either take the other correlations into consideration, or drop the variables that affect the linear regression between the independent and measured variable."
      ],
      "metadata": {
        "id": "J1rP_1g24auj"
      }
    },
    {
      "cell_type": "markdown",
      "source": [
        "# **Directions**"
      ],
      "metadata": {
        "id": "Y-Z07gaa4dn9"
      }
    },
    {
      "cell_type": "markdown",
      "source": [
        "Several possible strategies – the analyst can opt to drop the independent variables responsible for the multicollinearity, although care must be taken to ensure that the dropped variables do not have linear relationships with either the independent or dependent variable to be modelled by linear regression – if they do, then another method must be used. In which case, one can opt to assess if (any of) the variables causing the multicollinearity can be explained by a set of independent variables. This can be achieved by running linear regressions on said variable with the other independent variables and calculating either the $R^2$ or adjusted $R^2$ metric, then calculating the Variance Inflation Factor (VIF).  If VIF = 1, no multicollinearity exists in the set of variables used in the linear regression model and hence this model will produce reliable results."
      ],
      "metadata": {
        "id": "BTbNYYnr4fiL"
      }
    },
    {
      "cell_type": "markdown",
      "source": [
        "# **Concept 2: Joining Time Series with Different Frequencies**"
      ],
      "metadata": {
        "id": "FJeNkp2h4oI-"
      }
    },
    {
      "cell_type": "markdown",
      "source": [
        "# **Definition**"
      ],
      "metadata": {
        "id": "QiK9vFDV40sq"
      }
    },
    {
      "cell_type": "markdown",
      "source": [
        "This refers to a data preprocessing technique known as cointegration. Cointegration involves combining two curves (composed of two separate streams of time-series data) linearly to produce just one curve. In this case, the two curves are generated by time series data of different frequencies and hence the shape of the two curves would be different."
      ],
      "metadata": {
        "id": "-Dp4Gl9N5uLG"
      }
    },
    {
      "cell_type": "markdown",
      "source": [
        "# **Description**"
      ],
      "metadata": {
        "id": "CEX-HKri44hQ"
      }
    },
    {
      "cell_type": "markdown",
      "source": [
        "To meaningfully cointegrate two separate time series, it must be possible to linearly combine the two series in such a way that the linear relationship is stationary. Each series of data, however, must be non-stationary. When cointegrating, the difference in frequencies between the two series must be processed via a function that relates the two frequencies to each other; this function must be stationary in nature."
      ],
      "metadata": {
        "id": "NqrNx7-k5x8N"
      }
    },
    {
      "cell_type": "markdown",
      "source": [
        "# **Demonstration**"
      ],
      "metadata": {
        "id": "JeBdXFORcqr2"
      }
    },
    {
      "cell_type": "markdown",
      "source": [
        "For this demonstration, we successfully cointegrate the time series formed by the monthly closing prices of Apple (AAPL) (Yahoo, 2024) and Amazon (AMZN) stocks (Yahoo, 2024) from the dates Jan 01, 2016 to Dec 31, 2021."
      ],
      "metadata": {
        "id": "Sd3Iu7Ksy5JM"
      }
    },
    {
      "cell_type": "code",
      "source": [
        "# For this demo we combine historical Apple and Amazon monthly closing prices from Jan 01, 2016 to Dec 31, 2021\n",
        "aapl_data = pd.read_csv(\"AAPL.csv\")\n",
        "amzn_data = pd.read_csv(\"AMZN.csv\")"
      ],
      "metadata": {
        "id": "oMYTwJCqct-V"
      },
      "execution_count": null,
      "outputs": []
    },
    {
      "cell_type": "markdown",
      "source": [
        "# **Diagram**"
      ],
      "metadata": {
        "id": "lswPFARhculO"
      }
    },
    {
      "cell_type": "markdown",
      "source": [
        "We first verify that the two series and their difference are continuous for the duration being analyzed (2016-2021). We do so by plotting the time series:"
      ],
      "metadata": {
        "id": "dL4U28N7y74k"
      }
    },
    {
      "cell_type": "code",
      "source": [
        "  # Plot the data\n",
        "  plt.plot(aapl_data['Close'], linewidth=1, c=\"b\", label=\"Apple Monthly Closing Prices (2016-2021)\")\n",
        "  plt.plot(amzn_data['Close'], linewidth=1, c=\"r\", label=\"Amazon Monthly Closing Prices (2016-2021)\")\n",
        "  plt.xlabel(\"Date\")\n",
        "  plt.ylabel(\"Price\")\n",
        "  plt.legend()\n",
        "  plt.show()"
      ],
      "metadata": {
        "id": "7NPccuyHcwB7",
        "colab": {
          "base_uri": "https://localhost:8080/",
          "height": 449
        },
        "outputId": "c0431533-2455-441a-b94a-73c11b8579eb"
      },
      "execution_count": null,
      "outputs": [
        {
          "output_type": "display_data",
          "data": {
            "text/plain": [
              "<Figure size 640x480 with 1 Axes>"
            ],
            "image/png": "[encoded data removed]"
          },
          "metadata": {}
        }
      ]
    },
    {
      "cell_type": "markdown",
      "source": [
        "The x-axis represents the month count (e.g. 10 represents the 10th month where the 0th month is January 2016, so November 2016) while the y-axis represents the closing price. Using the same axes, we can also represent the difference between the two time series."
      ],
      "metadata": {
        "id": "An3KRkMfy_Y9"
      }
    },
    {
      "cell_type": "code",
      "source": [
        "# Plot the difference between AAPL and AMZN Closing Prices\n",
        "plt.plot(aapl_data['Close'] - amzn_data['Close'], linewidth=1, c=\"g\", label=\"Difference\")\n",
        "plt.xlabel(\"Date\")\n",
        "plt.ylabel(\"Apple - Amazon Closing Prices (2019-2022)\")\n",
        "plt.legend()\n",
        "plt.show()"
      ],
      "metadata": {
        "id": "IZ8KMwrbol1o",
        "colab": {
          "base_uri": "https://localhost:8080/",
          "height": 449
        },
        "outputId": "cdfa7452-e88d-4340-f320-c61ecf74d553"
      },
      "execution_count": null,
      "outputs": [
        {
          "output_type": "display_data",
          "data": {
            "text/plain": [
              "<Figure size 640x480 with 1 Axes>"
            ],
            "image/png": "[encoded data removed]"
          },
          "metadata": {}
        }
      ]
    },
    {
      "cell_type": "markdown",
      "source": [
        "We recall the first criterion for two series to be cointegrated, which is that both series must themselves be non-stationary. Let us use the Engle-Granger Two-Step procedure to systematically test for the potential of AAPL and AMZN’s monthly closes to be cointegrated. Our first step in this procedure is to use the Augmented Dickey-Fuller (ADF) test on our time series to assess their stationarity. We perform the ADF tests on both AAPL and AMZN closing prices, as well as the first differences in their closing prices, at the 5% significance level (i.e. p-value < 0.05)."
      ],
      "metadata": {
        "id": "jruXvDUGzFrI"
      }
    },
    {
      "cell_type": "code",
      "source": [
        "# First perform the Augmented Dickey-Fuller (ADF) Test on each of the curves as well as the first difference\n",
        "# to check for stationarity of all the data to be used\n",
        "gdp_adf = ADF(aapl_data['Close'], trend=\"n\", method=\"bic\")\n",
        "hp_adf = ADF(amzn_data['Close'], trend=\"n\", method=\"bic\")\n",
        "gdp_adf_diff = ADF(aapl_data['Close'].diff().fillna(0), trend=\"n\", method=\"bic\")\n",
        "hp_adf_diff = ADF(amzn_data['Close'].diff().fillna(0), trend=\"n\", method=\"bic\")\n",
        "\n",
        "# Print the ADF Test summaries and results\n",
        "print(\"Apple Closes Augmented Dickey-Fuller Unit Root Test\\n\", gdp_adf.regression.summary())\n",
        "print(\"\\nTest statistics and critical values: \\n\", gdp_adf.summary())\n",
        "print(\"Amazon Closes Augmented Dickey-Fuller Unit Root Test\\n\", hp_adf.regression.summary())\n",
        "print(\"\\nTest statistics and critical values: \\n\", hp_adf.summary())\n",
        "print(\"Apple Closes First Difference Augmented Dickey-Fuller Unit Root Test\\n\", gdp_adf_diff.regression.summary())\n",
        "print(\"\\nTest statistics and critical values: \\n\", gdp_adf_diff.summary())\n",
        "print(\"Amazon Closes First Difference Augmented Dickey-Fuller Unit Root Test\\n\", hp_adf_diff.regression.summary())\n",
        "print(\"\\nTest statistics and critical values: \\n\", hp_adf_diff.summary())"
      ],
      "metadata": {
        "id": "uNH_e3cEpE69",
        "colab": {
          "base_uri": "https://localhost:8080/"
        },
        "outputId": "bdad2ad6-249e-4f37-805c-459df96a0e08"
      },
      "execution_count": null,
      "outputs": [
        {
          "output_type": "stream",
          "name": "stdout",
          "text": [
            "Apple Closes Augmented Dickey-Fuller Unit Root Test\n",
            "                                  OLS Regression Results                                \n",
            "=======================================================================================\n",
            "Dep. Variable:                      y   R-squared (uncentered):                   0.249\n",
            "Model:                            OLS   Adj. R-squared (uncentered):              0.215\n",
            "Method:                 Least Squares   F-statistic:                              7.301\n",
            "Date:                Mon, 17 Jun 2024   Prob (F-statistic):                    0.000267\n",
            "Time:                        13:30:21   Log-Likelihood:                         -221.79\n",
            "No. Observations:                  69   AIC:                                      449.6\n",
            "Df Residuals:                      66   BIC:                                      456.3\n",
            "Df Model:                           3                                                  \n",
            "Covariance Type:            nonrobust                                                  \n",
            "==============================================================================\n",
            "                 coef    std err          t      P>|t|      [0.025      0.975]\n",
            "------------------------------------------------------------------------------\n",
            "Level.L1       0.0399      0.011      3.622      0.001       0.018       0.062\n",
            "Diff.L1        0.1214      0.120      1.015      0.314      -0.117       0.360\n",
            "Diff.L2       -0.3714      0.122     -3.042      0.003      -0.615      -0.128\n",
            "==============================================================================\n",
            "Omnibus:                        6.632   Durbin-Watson:                   2.035\n",
            "Prob(Omnibus):                  0.036   Jarque-Bera (JB):               10.588\n",
            "Skew:                           0.170   Prob(JB):                      0.00502\n",
            "Kurtosis:                       4.889   Cond. No.                         13.0\n",
            "==============================================================================\n",
            "\n",
            "Notes:\n",
            "[1] R² is computed without centering (uncentered) since the model does not contain a constant.\n",
            "[2] Standard Errors assume that the covariance matrix of the errors is correctly specified.\n",
            "\n",
            "Test statistics and critical values: \n",
            "    Augmented Dickey-Fuller Results   \n",
            "=====================================\n",
            "Test Statistic                  3.622\n",
            "P-value                         1.000\n",
            "Lags                                2\n",
            "-------------------------------------\n",
            "\n",
            "Trend: No Trend\n",
            "Critical Values: -2.60 (1%), -1.95 (5%), -1.61 (10%)\n",
            "Null Hypothesis: The process contains a unit root.\n",
            "Alternative Hypothesis: The process is weakly stationary.\n",
            "Amazon Closes Augmented Dickey-Fuller Unit Root Test\n",
            "                                  OLS Regression Results                                \n",
            "=======================================================================================\n",
            "Dep. Variable:                      y   R-squared (uncentered):                   0.038\n",
            "Model:                            OLS   Adj. R-squared (uncentered):              0.024\n",
            "Method:                 Least Squares   F-statistic:                              2.735\n",
            "Date:                Mon, 17 Jun 2024   Prob (F-statistic):                       0.103\n",
            "Time:                        13:30:21   Log-Likelihood:                         -246.12\n",
            "No. Observations:                  71   AIC:                                      494.2\n",
            "Df Residuals:                      70   BIC:                                      496.5\n",
            "Df Model:                           1                                                  \n",
            "Covariance Type:            nonrobust                                                  \n",
            "==============================================================================\n",
            "                 coef    std err          t      P>|t|      [0.025      0.975]\n",
            "------------------------------------------------------------------------------\n",
            "Level.L1       0.0148      0.009      1.654      0.103      -0.003       0.033\n",
            "==============================================================================\n",
            "Omnibus:                        4.636   Durbin-Watson:                   2.262\n",
            "Prob(Omnibus):                  0.098   Jarque-Bera (JB):                5.833\n",
            "Skew:                           0.085   Prob(JB):                       0.0541\n",
            "Kurtosis:                       4.394   Cond. No.                         1.00\n",
            "==============================================================================\n",
            "\n",
            "Notes:\n",
            "[1] R² is computed without centering (uncentered) since the model does not contain a constant.\n",
            "[2] Standard Errors assume that the covariance matrix of the errors is correctly specified.\n",
            "\n",
            "Test statistics and critical values: \n",
            "    Augmented Dickey-Fuller Results   \n",
            "=====================================\n",
            "Test Statistic                  1.654\n",
            "P-value                         0.976\n",
            "Lags                                0\n",
            "-------------------------------------\n",
            "\n",
            "Trend: No Trend\n",
            "Critical Values: -2.60 (1%), -1.95 (5%), -1.61 (10%)\n",
            "Null Hypothesis: The process contains a unit root.\n",
            "Alternative Hypothesis: The process is weakly stationary.\n",
            "Apple Closes First Difference Augmented Dickey-Fuller Unit Root Test\n",
            "                                  OLS Regression Results                                \n",
            "=======================================================================================\n",
            "Dep. Variable:                      y   R-squared (uncentered):                   0.368\n",
            "Model:                            OLS   Adj. R-squared (uncentered):              0.359\n",
            "Method:                 Least Squares   F-statistic:                              40.75\n",
            "Date:                Mon, 17 Jun 2024   Prob (F-statistic):                    1.63e-08\n",
            "Time:                        13:30:21   Log-Likelihood:                         -235.45\n",
            "No. Observations:                  71   AIC:                                      472.9\n",
            "Df Residuals:                      70   BIC:                                      475.2\n",
            "Df Model:                           1                                                  \n",
            "Covariance Type:            nonrobust                                                  \n",
            "==============================================================================\n",
            "                 coef    std err          t      P>|t|      [0.025      0.975]\n",
            "------------------------------------------------------------------------------\n",
            "Level.L1      -0.7588      0.119     -6.384      0.000      -0.996      -0.522\n",
            "==============================================================================\n",
            "Omnibus:                        3.352   Durbin-Watson:                   1.878\n",
            "Prob(Omnibus):                  0.187   Jarque-Bera (JB):                3.058\n",
            "Skew:                          -0.175   Prob(JB):                        0.217\n",
            "Kurtosis:                       3.955   Cond. No.                         1.00\n",
            "==============================================================================\n",
            "\n",
            "Notes:\n",
            "[1] R² is computed without centering (uncentered) since the model does not contain a constant.\n",
            "[2] Standard Errors assume that the covariance matrix of the errors is correctly specified.\n",
            "\n",
            "Test statistics and critical values: \n",
            "    Augmented Dickey-Fuller Results   \n",
            "=====================================\n",
            "Test Statistic                 -6.384\n",
            "P-value                         0.000\n",
            "Lags                                0\n",
            "-------------------------------------\n",
            "\n",
            "Trend: No Trend\n",
            "Critical Values: -2.60 (1%), -1.95 (5%), -1.61 (10%)\n",
            "Null Hypothesis: The process contains a unit root.\n",
            "Alternative Hypothesis: The process is weakly stationary.\n",
            "Amazon Closes First Difference Augmented Dickey-Fuller Unit Root Test\n",
            "                                  OLS Regression Results                                \n",
            "=======================================================================================\n",
            "Dep. Variable:                      y   R-squared (uncentered):                   0.537\n",
            "Model:                            OLS   Adj. R-squared (uncentered):              0.531\n",
            "Method:                 Least Squares   F-statistic:                              81.26\n",
            "Date:                Mon, 17 Jun 2024   Prob (F-statistic):                    2.49e-13\n",
            "Time:                        13:30:21   Log-Likelihood:                         -247.24\n",
            "No. Observations:                  71   AIC:                                      496.5\n",
            "Df Residuals:                      70   BIC:                                      498.7\n",
            "Df Model:                           1                                                  \n",
            "Covariance Type:            nonrobust                                                  \n",
            "==============================================================================\n",
            "                 coef    std err          t      P>|t|      [0.025      0.975]\n",
            "------------------------------------------------------------------------------\n",
            "Level.L1      -1.0829      0.120     -9.014      0.000      -1.323      -0.843\n",
            "==============================================================================\n",
            "Omnibus:                        7.385   Durbin-Watson:                   1.975\n",
            "Prob(Omnibus):                  0.025   Jarque-Bera (JB):                9.967\n",
            "Skew:                           0.368   Prob(JB):                      0.00685\n",
            "Kurtosis:                       4.682   Cond. No.                         1.00\n",
            "==============================================================================\n",
            "\n",
            "Notes:\n",
            "[1] R² is computed without centering (uncentered) since the model does not contain a constant.\n",
            "[2] Standard Errors assume that the covariance matrix of the errors is correctly specified.\n",
            "\n",
            "Test statistics and critical values: \n",
            "    Augmented Dickey-Fuller Results   \n",
            "=====================================\n",
            "Test Statistic                 -9.014\n",
            "P-value                         0.000\n",
            "Lags                                0\n",
            "-------------------------------------\n",
            "\n",
            "Trend: No Trend\n",
            "Critical Values: -2.60 (1%), -1.95 (5%), -1.61 (10%)\n",
            "Null Hypothesis: The process contains a unit root.\n",
            "Alternative Hypothesis: The process is weakly stationary.\n"
          ]
        }
      ]
    },
    {
      "cell_type": "markdown",
      "source": [
        "We find that, like AAPL Closes, while AMZN monthly closing prices form a non-stationary time series, its first differences form a stationary time series. Were we seeking to find a stationary time series associated with either AAPL and AMZN stocks to analyze, we would be able to use their first difference series. However, for this demonstration, our objective is to conduct and show a test for cointegration of AAPL and AMZN monthly closes. Hence, we will proceed to continue carrying out this aim with the AAPL and AMZN monthly closes.\n",
        "Our test for cointegration is the Phillips-Ouliaris Test and is the second step of our Engle-Granger Two-Step procedure, conducted at the 5% significance level. Below we programmatically implement it and display its results.\n"
      ],
      "metadata": {
        "id": "fCvF45S6zSXv"
      }
    },
    {
      "cell_type": "code",
      "source": [
        "# Finally, perform the EG Two-Step Residual Based Test for Cointegration of AAPL Data and AMZN Data\n",
        "aapl_data_cpy = aapl_data.copy().reset_index()\n",
        "amzn_data_cpy = amzn_data.copy().reset_index()\n",
        "phillips_ouliaris(aapl_data_cpy['Close'], amzn_data_cpy['Close'], trend=\"c\", test_type=\"Za\", kernel=\"bartlett\")"
      ],
      "metadata": {
        "id": "c1QuJpSApH21",
        "colab": {
          "base_uri": "https://localhost:8080/",
          "height": 259
        },
        "outputId": "b03d4c08-6dda-444e-df2b-85899bb9dcb3"
      },
      "execution_count": null,
      "outputs": [
        {
          "output_type": "execute_result",
          "data": {
            "text/plain": [
              "Phillips-Ouliaris Za Cointegration Test\n",
              "Statistic: -0.5206282239751152\n",
              "P-value: 0.8103868018918778\n",
              "Null: No Cointegration, Alternative: Cointegration\n",
              "Kernel: Bartlett\n",
              "Bandwidth: 1.9885\n",
              "Trend: c\n",
              "Distribution Order: 3\n",
              "ID: 0x7bbed171f4c0"
            ],
            "text/html": [
              "<table class=\"simpletable\">\n",
              "<caption>Phillips-Ouliaris Za Cointegration Test</caption>\n",
              "<tr>\n",
              "  <td>Test Statistic</td>    <td>-0.521</td>\n",
              "</tr>\n",
              "<tr>\n",
              "  <td>P-value</td>            <td>0.810</td>\n",
              "</tr>\n",
              "<tr>\n",
              "  <td>Kernel</td>          <td>Bartlett</td>\n",
              "</tr>\n",
              "<tr>\n",
              "  <td>Bandwidth</td>          <td>1.989</td>\n",
              "</tr>\n",
              "</table><br/><br/>Trend: Constant<br/>Critical Values: -16.18 (10%), -19.22 (5%), -25.67 (1%)<br/>Null Hypothesis: No Cointegration<br/>Alternative Hypothesis: Cointegration<br/>Distribution Order: 3"
            ]
          },
          "metadata": {},
          "execution_count": 9
        }
      ]
    },
    {
      "cell_type": "markdown",
      "source": [
        "In this case, our p-value is 0.810, which is greater than 0.05. Hence, we cannot reject the null hypothesis and thus, in this case, AAPL and AMZN monthly closes are not cointegrated. However, this is unlikely to pose a grave challenge to us if our objective is to analyze historical AAPL and AMZN price movements as we discovered earlier that their first differences were stationary time series we can model using established techniques."
      ],
      "metadata": {
        "id": "ewIYd4MuzWrX"
      }
    },
    {
      "cell_type": "markdown",
      "source": [
        "# **Diagnosis**"
      ],
      "metadata": {
        "id": "1sp7zslh48DG"
      }
    },
    {
      "cell_type": "markdown",
      "source": [
        "Cointegration is successful when the two curves produced by the separate time series can be combined into a continuous single curve."
      ],
      "metadata": {
        "id": "OVarW-j552n1"
      }
    },
    {
      "cell_type": "markdown",
      "source": [
        "# **Damage**"
      ],
      "metadata": {
        "id": "DQgx-88B4-kI"
      }
    },
    {
      "cell_type": "markdown",
      "source": [
        "Rather than being harmful to modelling, cointegration simplifies the modelling analysis by reducing the number of functions to be analyzed from 2 or more to 1. However, if a stationary relationship that relates the two different frequencies cannot be established between the two time series, it would not be possible to cointegrate them."
      ],
      "metadata": {
        "id": "O_FWQKKs55He"
      }
    },
    {
      "cell_type": "markdown",
      "source": [
        "# **Directions**"
      ],
      "metadata": {
        "id": "ALHG1Ck15CPB"
      }
    },
    {
      "cell_type": "markdown",
      "source": [
        "Prior to any attempt to cointegrate two series, a test such as the Engle-Granger Two-Step Procedure (or EG Test), the Phillips-Perron test or the Augmented Dickey-Fuller (ADF) test can be conducted on the two time series. A demonstration of the EG test in Python is shown above."
      ],
      "metadata": {
        "id": "6FMfQnhl59jH"
      }
    },
    {
      "cell_type": "markdown",
      "source": [
        "# **Concept 3: Unit Root Testing**"
      ],
      "metadata": {
        "id": "6Tz-lGy05DEm"
      }
    },
    {
      "cell_type": "markdown",
      "source": [
        "# **Definition**"
      ],
      "metadata": {
        "id": "QVK5ag6Y5MqD"
      }
    },
    {
      "cell_type": "markdown",
      "source": [
        "This is a test that checks if 1 is a root value of the time series’ characteristic equation/function to assess if the time series is stationary."
      ],
      "metadata": {
        "id": "9zVcvka26Ebr"
      }
    },
    {
      "cell_type": "markdown",
      "source": [
        "# **Description**"
      ],
      "metadata": {
        "id": "JqQ1NEo05MqL"
      }
    },
    {
      "cell_type": "markdown",
      "source": [
        "For instance, given a function\n",
        "\n",
        "\\begin{align*}\n",
        "x_t = \\alpha_0 + \\alpha_1{x_{t-1}} + v_t\n",
        "\\end{align*}\n",
        "\n",
        "If $|\\alpha_1|=1$, a unit root exists and thus the time series is non-stationary. In the context of modelling, this indicates that methods such as parametric regression or neural networks cannot be deployed directly on the time series as the ground truth relationship changes with time. If $|\\alpha_1 |>1$, the series is known as explosive, i.e. its value will continue to either increase or decrease, or ‘runaway’ to infinity."
      ],
      "metadata": {
        "id": "I6MF9mbl6I0o"
      }
    },
    {
      "cell_type": "markdown",
      "source": [
        "# **Demonstration**"
      ],
      "metadata": {
        "id": "7WFgzLbIc25a"
      }
    },
    {
      "cell_type": "markdown",
      "source": [
        "We use historical Apple (AAPL) monthly closing prices from the dates Jan 01, 2016 to Dec 31, 2021 as our base dataset for this demonstration. Our chosen unit root test is the Augmented Dickey-Fuller (ADF) Test."
      ],
      "metadata": {
        "id": "tbO488-ZzbY0"
      }
    },
    {
      "cell_type": "code",
      "source": [
        "# We will use the Augmented Dickey-Fuller (ADF) Test to assess for stationarity in the time series.\n",
        "# We use Apple Historical Stock Prices from the years 2016-2021 for this demonstration\n",
        "\n",
        "apple_data = pd.read_csv(\"AAPL.csv\")\n",
        "aapl = apple_data.loc[:, [\"Date\", \"Close\"]]"
      ],
      "metadata": {
        "id": "w8FEGEUPc4up"
      },
      "execution_count": null,
      "outputs": []
    },
    {
      "cell_type": "markdown",
      "source": [
        "# **Diagram**"
      ],
      "metadata": {
        "id": "WfIYp1vyc4up"
      }
    },
    {
      "cell_type": "markdown",
      "source": [
        "To verify that the series is continuous in nature, we first plot it for visualization."
      ],
      "metadata": {
        "id": "pjTZTWvMzn6d"
      }
    },
    {
      "cell_type": "code",
      "source": [
        "# Plot the data to visualize it\n",
        "plt.plot(aapl.Date, aapl.Close, linewidth=1, c=\"b\")\n",
        "plt.xticks(rotation=90)\n",
        "plt.xlabel(\"Date\")\n",
        "plt.ylabel(\"Close\")\n",
        "plt.show()"
      ],
      "metadata": {
        "id": "yAiKOZLndAxt",
        "colab": {
          "base_uri": "https://localhost:8080/",
          "height": 516
        },
        "outputId": "a6bd2de2-b9eb-46b7-9bba-47b91cf67731"
      },
      "execution_count": null,
      "outputs": [
        {
          "output_type": "display_data",
          "data": {
            "text/plain": [
              "<Figure size 640x480 with 1 Axes>"
            ],
            "image/png": "[encoded data removed]"
          },
          "metadata": {}
        }
      ]
    },
    {
      "cell_type": "markdown",
      "source": [
        "In this case, our x-axis represents the month in date form and our y-axis represents the closing price.\n",
        "\n",
        "Having previously conducted a unit root test, the Augmented Dickey-Fuller (ADF) Test on this very dataset to assess its stationarity, we may repurpose it for this demonstration below:"
      ],
      "metadata": {
        "id": "S2KQdBZYztGn"
      }
    },
    {
      "cell_type": "code",
      "source": [
        "# AAPL Stock Price, ADF Test without Drift and Trend\n",
        "adf_none = ADF(aapl[\"Close\"], trend=\"n\", method=\"bic\")\n",
        "print(\"AAPL Augmented Dickey-Fuller Unit Root Test\\n\", adf_none.regression.summary())\n",
        "print(\"\\nTest statistics and critical values: \\n\", adf_none.summary())"
      ],
      "metadata": {
        "id": "LkgBc4dxtXPf",
        "colab": {
          "base_uri": "https://localhost:8080/"
        },
        "outputId": "87949bd9-6408-4e48-f06a-5e5a96dd7dbb"
      },
      "execution_count": null,
      "outputs": [
        {
          "output_type": "stream",
          "name": "stdout",
          "text": [
            "AAPL Augmented Dickey-Fuller Unit Root Test\n",
            "                                  OLS Regression Results                                \n",
            "=======================================================================================\n",
            "Dep. Variable:                      y   R-squared (uncentered):                   0.249\n",
            "Model:                            OLS   Adj. R-squared (uncentered):              0.215\n",
            "Method:                 Least Squares   F-statistic:                              7.301\n",
            "Date:                Mon, 17 Jun 2024   Prob (F-statistic):                    0.000267\n",
            "Time:                        13:30:26   Log-Likelihood:                         -221.79\n",
            "No. Observations:                  69   AIC:                                      449.6\n",
            "Df Residuals:                      66   BIC:                                      456.3\n",
            "Df Model:                           3                                                  \n",
            "Covariance Type:            nonrobust                                                  \n",
            "==============================================================================\n",
            "                 coef    std err          t      P>|t|      [0.025      0.975]\n",
            "------------------------------------------------------------------------------\n",
            "Level.L1       0.0399      0.011      3.622      0.001       0.018       0.062\n",
            "Diff.L1        0.1214      0.120      1.015      0.314      -0.117       0.360\n",
            "Diff.L2       -0.3714      0.122     -3.042      0.003      -0.615      -0.128\n",
            "==============================================================================\n",
            "Omnibus:                        6.632   Durbin-Watson:                   2.035\n",
            "Prob(Omnibus):                  0.036   Jarque-Bera (JB):               10.588\n",
            "Skew:                           0.170   Prob(JB):                      0.00502\n",
            "Kurtosis:                       4.889   Cond. No.                         13.0\n",
            "==============================================================================\n",
            "\n",
            "Notes:\n",
            "[1] R² is computed without centering (uncentered) since the model does not contain a constant.\n",
            "[2] Standard Errors assume that the covariance matrix of the errors is correctly specified.\n",
            "\n",
            "Test statistics and critical values: \n",
            "    Augmented Dickey-Fuller Results   \n",
            "=====================================\n",
            "Test Statistic                  3.622\n",
            "P-value                         1.000\n",
            "Lags                                2\n",
            "-------------------------------------\n",
            "\n",
            "Trend: No Trend\n",
            "Critical Values: -2.60 (1%), -1.95 (5%), -1.61 (10%)\n",
            "Null Hypothesis: The process contains a unit root.\n",
            "Alternative Hypothesis: The process is weakly stationary.\n"
          ]
        }
      ]
    },
    {
      "cell_type": "markdown",
      "source": [
        "From which we can see that our p-value is 1.000, which is greater than the maximum threshold of 0.05 required to conclude at the 5% significance level that the process is weakly stationary. Hence, the time series comprising AAPL monthly closes contains a unit root and is therefore non-stationary."
      ],
      "metadata": {
        "id": "dgZtL9x6zz0W"
      }
    },
    {
      "cell_type": "markdown",
      "source": [
        "# **Diagnosis**"
      ],
      "metadata": {
        "id": "urI7WWN-5RX2"
      }
    },
    {
      "cell_type": "markdown",
      "source": [
        "Several methods can be used to detect the presence of a unit root – among the most well-known methods are the Dickey-Fuller test, Augmented Dickey-Fuller (ADF) test and the Kwiatkowski-Phillips-Schmidt-Shin (KPSS) test. A combination of the tests can be run – if either the ADF test does not reject the null hypothesis that the time series is stationary, or both the ADF and KPSS tests do not reject the null hypothesis, then a unit root exists and therefore the time series is stationary. Note that a time series can fluctuate along a specific trend (that can be described by a function), in which case it is known as trend-stationary. For trend-stationary data, applying methods such as seasonal decomposition (decomposing the curve into its constituent functions) can also simplify the preprocessing of the time series. The trend-stationary nature of data can be inferred through conducting a combination of the ADF and KPSS tests - if ADF rejects the null hypothesis that the time series is stationary while the KPSS test does not, then the data is trend-stationary."
      ],
      "metadata": {
        "id": "7m1uv65P6j9B"
      }
    },
    {
      "cell_type": "markdown",
      "source": [
        "# **Damage**"
      ],
      "metadata": {
        "id": "xJIvKZlS5RX2"
      }
    },
    {
      "cell_type": "markdown",
      "source": [
        "Checking for stationarity of the time series is important when deciding on a regression or modelling method to deploy on the time series. If data is non-stationary, parametric regressions that presume a stationary relationship between variables producing the data (e.g. OLS, WLS, Ridge and LASSO regression) cannot be used directly. A failure to check for stationarity using unit root testing could result in the wrong model being deployed, leading to invalid training and testing results."
      ],
      "metadata": {
        "id": "oYJ7tdlv6oM_"
      }
    },
    {
      "cell_type": "markdown",
      "source": [
        "# **Directions**"
      ],
      "metadata": {
        "id": "NcICjrSq5RX3"
      }
    },
    {
      "cell_type": "markdown",
      "source": [
        "If the time series is non-stationary in nature, additional pre-processing of the time series is required such that only stationary components are used. Otherwise, either regime change models or non-parametric regressions must be used; the data can no longer be treated as a whole, but must be broken up into stationary segments to be analyzed. Regime change models are defined and described in the next section."
      ],
      "metadata": {
        "id": "uOQVqlog6ril"
      }
    },
    {
      "cell_type": "markdown",
      "source": [
        "# **Concept 4: Regime Change Models**"
      ],
      "metadata": {
        "id": "OKb1W28u5TLW"
      }
    },
    {
      "cell_type": "markdown",
      "source": [
        "# **Definition**"
      ],
      "metadata": {
        "id": "7PzJpqJw5cK8"
      }
    },
    {
      "cell_type": "markdown",
      "source": [
        "This refers to a category of machine learning models that process non-stationary time series by splitting them across time periods to create separate temporal regimes, e.g. data when time $t<t_1$, data when time $t_1\\leq{t}\\leq{t_2}$ and data when time $t>t_2$."
      ],
      "metadata": {
        "id": "j0H5znLA6wgx"
      }
    },
    {
      "cell_type": "markdown",
      "source": [
        "# **Description**"
      ],
      "metadata": {
        "id": "Em2pAbM55cLM"
      }
    },
    {
      "cell_type": "markdown",
      "source": [
        "Regime change models split non-stationary time series into separate temporal regimes, each characterized by either a different function or probability distribution. They are meant to handle time series which undergo fundamental changes in their characteristic equations or distributions with time; it is otherwise impossible to accurately model such time series by using parametric regressions that assume a stationary characteristic function describes the time series. Three well-known types of regime change models are threshold-based models (they split data according to variable value thresholds), predictive models (these can be ensembles of models that comprise of a model making an initial prediction of a volatility index or constant of the time series, which is then used in subsequent regression models) or state-space based models such as the Markov-switching Autoregressive Model or Kalman Filter. A state space is a mathematical model of a system that is represented by a transition between a set of stages/phases based on input and output variables, subject to specific criteria (can be thought of as a block diagram where the states are the blocks and one block is connected to another block by an arrow, which represents the output from the previous block being fed as input into the current block). A state space model can also be used to interpolate/forecast missing values in a dataset."
      ],
      "metadata": {
        "id": "oNdGHOpH67VT"
      }
    },
    {
      "cell_type": "markdown",
      "source": [
        "# **Demonstration**"
      ],
      "metadata": {
        "id": "zSLFlj6AdAxs"
      }
    },
    {
      "cell_type": "markdown",
      "source": [
        "We will be demonstrating an application of the Kalman filter (FilterPy, 2024) for this concept.\n",
        "\n",
        "We first initialize some necessary information to set up our filter. The following are our starting parameters:"
      ],
      "metadata": {
        "id": "UDwv-bTNz38n"
      }
    },
    {
      "cell_type": "code",
      "source": [
        "# For this challenge we demonstrate use of the Kalman Filter\n",
        "# First, instantiate the filter\n",
        "kf = KalmanFilter(dim_x=2, dim_z=1)\n",
        "# Create a sample dataset as well as an array to house the state transitions\n",
        "kf.x = np.array([2.0, 1.0]) # Initial (starting) position - we use the origin\n",
        "kf.F = np.array([[1, 1], [0, 1]]) # State transition matrix - only 2 states in this example\n",
        "kf.H = np.array([[2, 1]]) # Measurement matrix. This matrix links the current position kf.x to the system state kf.F\n",
        "kf.P *= 10.0 # Estimate error (P contains an identity matrix, so this produces np.array([[10., 0.], [0., 10.]]))\n",
        "kf.R = 1.0 # Measurement noise\n",
        "kf.Q = Q_discrete_white_noise(dim=2, dt=1, var=0.1) # Additional Gaussian (white) noise\n",
        "print(f\"Initial Position: {kf.x}\")\n",
        "print(f\"Initial State Transition Matrix: \\n{kf.F}\")\n",
        "print(f\"Initial Measurement Matrix: \\n{kf.H}\")\n",
        "print(f\"Initial Estimate Error: \\n{kf.P}\")\n",
        "print(f\"Measurement Noise: {kf.R}\")\n",
        "print(f\"White Noise: {kf.Q}\")"
      ],
      "metadata": {
        "id": "797ENPxvc25b",
        "colab": {
          "base_uri": "https://localhost:8080/"
        },
        "outputId": "25449a01-27a9-4741-e67a-aadb719e1b7d"
      },
      "execution_count": null,
      "outputs": [
        {
          "output_type": "stream",
          "name": "stdout",
          "text": [
            "Initial Position: [2. 1.]\n",
            "Initial State Transition Matrix: \n",
            "[[1 1]\n",
            " [0 1]]\n",
            "Initial Measurement Matrix: \n",
            "[[2 1]]\n",
            "Initial Estimate Error: \n",
            "[[10.  0.]\n",
            " [ 0. 10.]]\n",
            "Measurement Noise: 1.0\n",
            "White Noise: [[0.025 0.05 ]\n",
            " [0.05  0.1  ]]\n"
          ]
        }
      ]
    },
    {
      "cell_type": "markdown",
      "source": [
        "Our system has only 2 transition states, with white noise and error being introduced at each stage. As an example, a derivation of the updated position coordinates after the first iteration is provided in the Word edition of this guidebook."
      ],
      "metadata": {
        "id": "gqOOzlwk0HK1"
      }
    },
    {
      "cell_type": "markdown",
      "source": [
        "# **Diagram**"
      ],
      "metadata": {
        "id": "8r56jV0GdGh0"
      }
    },
    {
      "cell_type": "code",
      "source": [
        "# Let's run this for 10 rounds - print the output kf.x\n",
        "ctr = 0\n",
        "while ctr < 10:\n",
        "  kf.predict()\n",
        "  print(f\"Noise introduced: {kf.Q}\")\n",
        "  print(f\"Coordinates after prediction #{ctr+1}: {kf.x}\")\n",
        "  kf.update(kf.x[0], kf.R, kf.H)\n",
        "  # kf.update(kf.x[1], kf.R, kf.H)\n",
        "  print(f\"Coordinates after update iteration #{ctr+1}: {kf.x}\")\n",
        "  ctr += 1"
      ],
      "metadata": {
        "id": "FGtslrwVdGh0",
        "colab": {
          "base_uri": "https://localhost:8080/"
        },
        "outputId": "f8e07d46-b29a-4315-9f68-56a5b8672329"
      },
      "execution_count": null,
      "outputs": [
        {
          "output_type": "stream",
          "name": "stdout",
          "text": [
            "Noise introduced: [[0.025 0.05 ]\n",
            " [0.05  0.1  ]]\n",
            "Coordinates after prediction #1: [3. 1.]\n",
            "Coordinates after update iteration #1: [1.47488584 0.08066971]\n",
            "Noise introduced: [[0.025 0.05 ]\n",
            " [0.05  0.1  ]]\n",
            "Coordinates after prediction #2: [1.55555556 0.08066971]\n",
            "Coordinates after update iteration #2: [ 1.13490427 -0.61165512]\n",
            "Noise introduced: [[0.025 0.05 ]\n",
            " [0.05  0.1  ]]\n",
            "Coordinates after prediction #3: [ 0.52324916 -0.61165512]\n",
            "Coordinates after update iteration #3: [ 0.54841831 -0.58924793]\n",
            "Noise introduced: [[0.025 0.05 ]\n",
            " [0.05  0.1  ]]\n",
            "Coordinates after prediction #4: [-0.04082962 -0.58924793]\n",
            "Coordinates after update iteration #4: [ 0.13035441 -0.46728447]\n",
            "Noise introduced: [[0.025 0.05 ]\n",
            " [0.05  0.1  ]]\n",
            "Coordinates after prediction #5: [-0.33693006 -0.46728447]\n",
            "Coordinates after update iteration #5: [-0.12833101 -0.32350894]\n",
            "Noise introduced: [[0.025 0.05 ]\n",
            " [0.05  0.1  ]]\n",
            "Coordinates after prediction #6: [-0.45183995 -0.32350894]\n",
            "Coordinates after update iteration #6: [-0.25464952 -0.18597925]\n",
            "Noise introduced: [[0.025 0.05 ]\n",
            " [0.05  0.1  ]]\n",
            "Coordinates after prediction #7: [-0.44062877 -0.18597925]\n",
            "Coordinates after update iteration #7: [-0.28195951 -0.07456259]\n",
            "Noise introduced: [[0.025 0.05 ]\n",
            " [0.05  0.1  ]]\n",
            "Coordinates after prediction #8: [-0.3565221  -0.07456259]\n",
            "Coordinates after update iteration #8: [-0.24739407  0.00212554]\n",
            "Noise introduced: [[0.025 0.05 ]\n",
            " [0.05  0.1  ]]\n",
            "Coordinates after prediction #9: [-0.24526853  0.00212554]\n",
            "Coordinates after update iteration #9: [-0.18371513  0.04536167]\n",
            "Noise introduced: [[0.025 0.05 ]\n",
            " [0.05  0.1  ]]\n",
            "Coordinates after prediction #10: [-0.13835346  0.04536167]\n",
            "Coordinates after update iteration #10: [-0.11481333  0.06189319]\n"
          ]
        }
      ]
    },
    {
      "cell_type": "markdown",
      "source": [
        "# **Diagnosis**"
      ],
      "metadata": {
        "id": "fmwQbpBD5d5b"
      }
    },
    {
      "cell_type": "markdown",
      "source": [
        "Regime change models are characterized by their stage or phase-based handling of time series, using a different characteristic function or distribution to model the time series in each phase. Data that is non-stationary and that can be partitioned into phases which can be described by stationary functions is suitable for processing using a regime change model. In the demonstration, we use a Kalman Filter to process a non-stationary time series."
      ],
      "metadata": {
        "id": "AVUxgsW57A2N"
      }
    },
    {
      "cell_type": "markdown",
      "source": [
        "# **Damage**"
      ],
      "metadata": {
        "id": "uVdt9kLM5d5b"
      }
    },
    {
      "cell_type": "markdown",
      "source": [
        "Care should be taken when analyzing the data to determine the correct category of state space model to use – processing data using a state space model (that splits the data into time regimes) when the data is more appropriately split according to variable thresholds, for instance, could lead to suboptimal results."
      ],
      "metadata": {
        "id": "bcYdTE0w7EBm"
      }
    },
    {
      "cell_type": "markdown",
      "source": [
        "# **Directions**"
      ],
      "metadata": {
        "id": "hYW2CErC5d5c"
      }
    },
    {
      "cell_type": "markdown",
      "source": [
        "Data should be checked for stationarity using a test such as the unit root test as described in an earlier section. Once it is deemed to be non-stationary, experiment with splitting the data according to thresholds and time; the results of this experiment would then be used to decide on which type of regime change model to use."
      ],
      "metadata": {
        "id": "ajfXYBuG7Gmy"
      }
    },
    {
      "cell_type": "markdown",
      "source": [
        "# **Concept 5: Feature Extraction**"
      ],
      "metadata": {
        "id": "HBUsgSPk5lGh"
      }
    },
    {
      "cell_type": "markdown",
      "source": [
        "# **Definition**"
      ],
      "metadata": {
        "id": "EDmuueiI5rhv"
      }
    },
    {
      "cell_type": "markdown",
      "source": [
        "This refers to isolating important variables (independent or latent/underlying) that completely account for/explain the variation of values in time series data."
      ],
      "metadata": {
        "id": "W_QgQAm77I-3"
      }
    },
    {
      "cell_type": "markdown",
      "source": [
        "# **Description**"
      ],
      "metadata": {
        "id": "YVz4oVRB5rh-"
      }
    },
    {
      "cell_type": "markdown",
      "source": [
        "Real-world time series often consist of many variables, to the point that observed variables only form a small subset of the underlying variables that explain variations in the data. However, it is impractical to consider all possible variables when modelling such data as the characteristic equation would be extremely complex, with a high dimensionality. Training a model on such data thus carries a high likelihood of resulting in underfitting. Feature extraction is characterized by reducing the set of variables to a small set of variables that explain most of the variation in the data; this small set of variables can then be used for training, reducing model complexity and hence the likelihood of underfitting, which produces unreliable results. Simultaneously, if the data suffers from multicollinearity, feature extraction can also serve as a means by which to select independent variables (refer back to the problem of multicollinearity, described in an earlier section)."
      ],
      "metadata": {
        "id": "9LMSa_rD7LUQ"
      }
    },
    {
      "cell_type": "markdown",
      "source": [
        "# **Demonstration**"
      ],
      "metadata": {
        "id": "3Kw9CRGmdNpt"
      }
    },
    {
      "cell_type": "markdown",
      "source": [
        "We will demonstrate Principal Component Analysis (PCA) on our multivariate compilation of historical returns on the S&P 500, Dividend Yields, US Treasury Bill rates and other significant US securities, as used earlier in our demonstration of multicollinearity."
      ],
      "metadata": {
        "id": "k7sG5rJD0L2f"
      }
    },
    {
      "cell_type": "code",
      "source": [
        "# Feature Extraction - for this example we revert to Principal Component Analysis (PCA)\n",
        "# We use the dataset containing Historical US 10-Year T-Bond Annual Returns and the S&P 500 Daily Returns from the years 1928-2023\n",
        "dataset  = pd.read_csv('histretSP_rawreturnsdata.csv').dropna()\n",
        "cols = [\n",
        "       \"S&P 500\",\n",
        "       \"Dividends\",\n",
        "       \"Dividend Yield\",\n",
        "       \"T.Bond rate\",\n",
        "       \"Return on bond\",\n",
        "       \"Aaa Bond Rate\",\n",
        "       \"Baa Bond Rate\",\n",
        "       \"Returns on Real Estate\"\n",
        "]\n",
        "# Let's select a number of components equal to the number of columns in the dataset (in this case 10)\n",
        "data = dataset[cols]\n",
        "for col in data.columns:\n",
        "  if '%' in str(data[col]):\n",
        "    data[col] = data[col].str.rstrip('%').astype('float') / 100\n",
        "  else:\n",
        "    data[col] = data[col].astype('float')\n",
        "pca_data = preprocessing.scale(data)\n",
        "pca = PCA(n_components=len(cols))\n",
        "pca.fit(pca_data)"
      ],
      "metadata": {
        "id": "fQtmwss3dNpt",
        "colab": {
          "base_uri": "https://localhost:8080/",
          "height": 907
        },
        "outputId": "73653e57-02af-4337-a789-a80cd02b73a6"
      },
      "execution_count": null,
      "outputs": [
        {
          "output_type": "stream",
          "name": "stderr",
          "text": [
            "<ipython-input-15-23711323ff9c>:20: SettingWithCopyWarning: \n",
            "A value is trying to be set on a copy of a slice from a DataFrame.\n",
            "Try using .loc[row_indexer,col_indexer] = value instead\n",
            "\n",
            "See the caveats in the documentation: https://pandas.pydata.org/pandas-docs/stable/user_guide/indexing.html#returning-a-view-versus-a-copy\n",
            "  data[col] = data[col].astype('float')\n",
            "<ipython-input-15-23711323ff9c>:20: SettingWithCopyWarning: \n",
            "A value is trying to be set on a copy of a slice from a DataFrame.\n",
            "Try using .loc[row_indexer,col_indexer] = value instead\n",
            "\n",
            "See the caveats in the documentation: https://pandas.pydata.org/pandas-docs/stable/user_guide/indexing.html#returning-a-view-versus-a-copy\n",
            "  data[col] = data[col].astype('float')\n",
            "<ipython-input-15-23711323ff9c>:18: SettingWithCopyWarning: \n",
            "A value is trying to be set on a copy of a slice from a DataFrame.\n",
            "Try using .loc[row_indexer,col_indexer] = value instead\n",
            "\n",
            "See the caveats in the documentation: https://pandas.pydata.org/pandas-docs/stable/user_guide/indexing.html#returning-a-view-versus-a-copy\n",
            "  data[col] = data[col].str.rstrip('%').astype('float') / 100\n",
            "<ipython-input-15-23711323ff9c>:18: SettingWithCopyWarning: \n",
            "A value is trying to be set on a copy of a slice from a DataFrame.\n",
            "Try using .loc[row_indexer,col_indexer] = value instead\n",
            "\n",
            "See the caveats in the documentation: https://pandas.pydata.org/pandas-docs/stable/user_guide/indexing.html#returning-a-view-versus-a-copy\n",
            "  data[col] = data[col].str.rstrip('%').astype('float') / 100\n",
            "<ipython-input-15-23711323ff9c>:18: SettingWithCopyWarning: \n",
            "A value is trying to be set on a copy of a slice from a DataFrame.\n",
            "Try using .loc[row_indexer,col_indexer] = value instead\n",
            "\n",
            "See the caveats in the documentation: https://pandas.pydata.org/pandas-docs/stable/user_guide/indexing.html#returning-a-view-versus-a-copy\n",
            "  data[col] = data[col].str.rstrip('%').astype('float') / 100\n",
            "<ipython-input-15-23711323ff9c>:18: SettingWithCopyWarning: \n",
            "A value is trying to be set on a copy of a slice from a DataFrame.\n",
            "Try using .loc[row_indexer,col_indexer] = value instead\n",
            "\n",
            "See the caveats in the documentation: https://pandas.pydata.org/pandas-docs/stable/user_guide/indexing.html#returning-a-view-versus-a-copy\n",
            "  data[col] = data[col].str.rstrip('%').astype('float') / 100\n",
            "<ipython-input-15-23711323ff9c>:18: SettingWithCopyWarning: \n",
            "A value is trying to be set on a copy of a slice from a DataFrame.\n",
            "Try using .loc[row_indexer,col_indexer] = value instead\n",
            "\n",
            "See the caveats in the documentation: https://pandas.pydata.org/pandas-docs/stable/user_guide/indexing.html#returning-a-view-versus-a-copy\n",
            "  data[col] = data[col].str.rstrip('%').astype('float') / 100\n",
            "<ipython-input-15-23711323ff9c>:18: SettingWithCopyWarning: \n",
            "A value is trying to be set on a copy of a slice from a DataFrame.\n",
            "Try using .loc[row_indexer,col_indexer] = value instead\n",
            "\n",
            "See the caveats in the documentation: https://pandas.pydata.org/pandas-docs/stable/user_guide/indexing.html#returning-a-view-versus-a-copy\n",
            "  data[col] = data[col].str.rstrip('%').astype('float') / 100\n"
          ]
        },
        {
          "output_type": "execute_result",
          "data": {
            "text/plain": [
              "PCA(n_components=8)"
            ],
            "text/html": [
              "<style>#sk-container-id-1 {color: black;background-color: white;}#sk-container-id-1 pre{padding: 0;}#sk-container-id-1 div.sk-toggleable {background-color: white;}#sk-container-id-1 label.sk-toggleable__label {cursor: pointer;display: block;width: 100%;margin-bottom: 0;padding: 0.3em;box-sizing: border-box;text-align: center;}#sk-container-id-1 label.sk-toggleable__label-arrow:before {content: \"▸\";float: left;margin-right: 0.25em;color: #696969;}#sk-container-id-1 label.sk-toggleable__label-arrow:hover:before {color: black;}#sk-container-id-1 div.sk-estimator:hover label.sk-toggleable__label-arrow:before {color: black;}#sk-container-id-1 div.sk-toggleable__content {max-height: 0;max-width: 0;overflow: hidden;text-align: left;background-color: #f0f8ff;}#sk-container-id-1 div.sk-toggleable__content pre {margin: 0.2em;color: black;border-radius: 0.25em;background-color: #f0f8ff;}#sk-container-id-1 input.sk-toggleable__control:checked~div.sk-toggleable__content {max-height: 200px;max-width: 100%;overflow: auto;}#sk-container-id-1 input.sk-toggleable__control:checked~label.sk-toggleable__label-arrow:before {content: \"▾\";}#sk-container-id-1 div.sk-estimator input.sk-toggleable__control:checked~label.sk-toggleable__label {background-color: #d4ebff;}#sk-container-id-1 div.sk-label input.sk-toggleable__control:checked~label.sk-toggleable__label {background-color: #d4ebff;}#sk-container-id-1 input.sk-hidden--visually {border: 0;clip: rect(1px 1px 1px 1px);clip: rect(1px, 1px, 1px, 1px);height: 1px;margin: -1px;overflow: hidden;padding: 0;position: absolute;width: 1px;}#sk-container-id-1 div.sk-estimator {font-family: monospace;background-color: #f0f8ff;border: 1px dotted black;border-radius: 0.25em;box-sizing: border-box;margin-bottom: 0.5em;}#sk-container-id-1 div.sk-estimator:hover {background-color: #d4ebff;}#sk-container-id-1 div.sk-parallel-item::after {content: \"\";width: 100%;border-bottom: 1px solid gray;flex-grow: 1;}#sk-container-id-1 div.sk-label:hover label.sk-toggleable__label {background-color: #d4ebff;}#sk-container-id-1 div.sk-serial::before {content: \"\";position: absolute;border-left: 1px solid gray;box-sizing: border-box;top: 0;bottom: 0;left: 50%;z-index: 0;}#sk-container-id-1 div.sk-serial {display: flex;flex-direction: column;align-items: center;background-color: white;padding-right: 0.2em;padding-left: 0.2em;position: relative;}#sk-container-id-1 div.sk-item {position: relative;z-index: 1;}#sk-container-id-1 div.sk-parallel {display: flex;align-items: stretch;justify-content: center;background-color: white;position: relative;}#sk-container-id-1 div.sk-item::before, #sk-container-id-1 div.sk-parallel-item::before {content: \"\";position: absolute;border-left: 1px solid gray;box-sizing: border-box;top: 0;bottom: 0;left: 50%;z-index: -1;}#sk-container-id-1 div.sk-parallel-item {display: flex;flex-direction: column;z-index: 1;position: relative;background-color: white;}#sk-container-id-1 div.sk-parallel-item:first-child::after {align-self: flex-end;width: 50%;}#sk-container-id-1 div.sk-parallel-item:last-child::after {align-self: flex-start;width: 50%;}#sk-container-id-1 div.sk-parallel-item:only-child::after {width: 0;}#sk-container-id-1 div.sk-dashed-wrapped {border: 1px dashed gray;margin: 0 0.4em 0.5em 0.4em;box-sizing: border-box;padding-bottom: 0.4em;background-color: white;}#sk-container-id-1 div.sk-label label {font-family: monospace;font-weight: bold;display: inline-block;line-height: 1.2em;}#sk-container-id-1 div.sk-label-container {text-align: center;}#sk-container-id-1 div.sk-container {/* jupyter's `normalize.less` sets `[hidden] { display: none; }` but bootstrap.min.css set `[hidden] { display: none !important; }` so we also need the `!important` here to be able to override the default hidden behavior on the sphinx rendered scikit-learn.org. See: https://github.com/scikit-learn/scikit-learn/issues/21755 */display: inline-block !important;position: relative;}#sk-container-id-1 div.sk-text-repr-fallback {display: none;}</style><div id=\"sk-container-id-1\" class=\"sk-top-container\"><div class=\"sk-text-repr-fallback\"><pre>PCA(n_components=8)</pre><b>In a Jupyter environment, please rerun this cell to show the HTML representation or trust the notebook. <br />On GitHub, the HTML representation is unable to render, please try loading this page with nbviewer.org.</b></div><div class=\"sk-container\" hidden><div class=\"sk-item\"><div class=\"sk-estimator sk-toggleable\"><input class=\"sk-toggleable__control sk-hidden--visually\" id=\"sk-estimator-id-1\" type=\"checkbox\" checked><label for=\"sk-estimator-id-1\" class=\"sk-toggleable__label sk-toggleable__label-arrow\">PCA</label><div class=\"sk-toggleable__content\"><pre>PCA(n_components=8)</pre></div></div></div></div></div>"
            ]
          },
          "metadata": {},
          "execution_count": 15
        }
      ]
    },
    {
      "cell_type": "markdown",
      "source": [
        "# **Diagram**"
      ],
      "metadata": {
        "id": "xswWt57jdPWm"
      }
    },
    {
      "cell_type": "markdown",
      "source": [
        "The analyst has the leeway to decide on the number of principal components, i.e. latent underlying variables composed by a combination of the known parameters in the dataset, to select from when choosing to reduce the number of parameters by which to model data on. For our example, we choose to create 8 different principal components. Below we display the 8 principal components, ordered by proportion of the variance they contribute."
      ],
      "metadata": {
        "id": "JPmOYY_b0PwU"
      }
    },
    {
      "cell_type": "code",
      "source": [
        "# Get the proportions of variance and cumulative proportions of variance\n",
        "variance = pca.explained_variance_ratio_\n",
        "cumulative_variance = np.cumsum(pca.explained_variance_ratio_)\n",
        "ind = [\"Proportion of Variance\", \"Cumulative Proportion of Variance\"]\n",
        "columns = [f\"PC{i}\" for i in range(1, len(cols)+1)]\n",
        "df = pd.DataFrame(np.vstack((variance, cumulative_variance)), ind, columns=columns)\n",
        "df"
      ],
      "metadata": {
        "id": "rJ8Hbw1SdPWm",
        "colab": {
          "base_uri": "https://localhost:8080/",
          "height": 112
        },
        "outputId": "2ed38c41-879a-4037-ab7e-a8600067bcd7"
      },
      "execution_count": null,
      "outputs": [
        {
          "output_type": "execute_result",
          "data": {
            "text/plain": [
              "                                       PC1       PC2       PC3       PC4  \\\n",
              "Proportion of Variance             0.41063  0.289604  0.135891  0.101934   \n",
              "Cumulative Proportion of Variance  0.41063  0.700234  0.836125  0.938059   \n",
              "\n",
              "                                        PC5       PC6       PC7       PC8  \n",
              "Proportion of Variance             0.052294  0.006042  0.002991  0.000613  \n",
              "Cumulative Proportion of Variance  0.990354  0.996396  0.999387  1.000000  "
            ],
            "text/html": [
              "\n",
              "  <div id=\"df-74ddc38e-e8c4-4c0a-ab10-7cfbc1713345\" class=\"colab-df-container\">\n",
              "    <div>\n",
              "<style scoped>\n",
              "    .dataframe tbody tr th:only-of-type {\n",
              "        vertical-align: middle;\n",
              "    }\n",
              "\n",
              "    .dataframe tbody tr th {\n",
              "        vertical-align: top;\n",
              "    }\n",
              "\n",
              "    .dataframe thead th {\n",
              "        text-align: right;\n",
              "    }\n",
              "</style>\n",
              "<table border=\"1\" class=\"dataframe\">\n",
              "  <thead>\n",
              "    <tr style=\"text-align: right;\">\n",
              "      <th></th>\n",
              "      <th>PC1</th>\n",
              "      <th>PC2</th>\n",
              "      <th>PC3</th>\n",
              "      <th>PC4</th>\n",
              "      <th>PC5</th>\n",
              "      <th>PC6</th>\n",
              "      <th>PC7</th>\n",
              "      <th>PC8</th>\n",
              "    </tr>\n",
              "  </thead>\n",
              "  <tbody>\n",
              "    <tr>\n",
              "      <th>Proportion of Variance</th>\n",
              "      <td>0.41063</td>\n",
              "      <td>0.289604</td>\n",
              "      <td>0.135891</td>\n",
              "      <td>0.101934</td>\n",
              "      <td>0.052294</td>\n",
              "      <td>0.006042</td>\n",
              "      <td>0.002991</td>\n",
              "      <td>0.000613</td>\n",
              "    </tr>\n",
              "    <tr>\n",
              "      <th>Cumulative Proportion of Variance</th>\n",
              "      <td>0.41063</td>\n",
              "      <td>0.700234</td>\n",
              "      <td>0.836125</td>\n",
              "      <td>0.938059</td>\n",
              "      <td>0.990354</td>\n",
              "      <td>0.996396</td>\n",
              "      <td>0.999387</td>\n",
              "      <td>1.000000</td>\n",
              "    </tr>\n",
              "  </tbody>\n",
              "</table>\n",
              "</div>\n",
              "    <div class=\"colab-df-buttons\">\n",
              "\n",
              "  <div class=\"colab-df-container\">\n",
              "    <button class=\"colab-df-convert\" onclick=\"convertToInteractive('df-74ddc38e-e8c4-4c0a-ab10-7cfbc1713345')\"\n",
              "            title=\"Convert this dataframe to an interactive table.\"\n",
              "            style=\"display:none;\">\n",
              "\n",
              "  <svg xmlns=\"http://www.w3.org/2000/svg\" height=\"24px\" viewBox=\"0 -960 960 960\">\n",
              "    <path d=\"M120-120v-720h720v720H120Zm60-500h600v-160H180v160Zm220 220h160v-160H400v160Zm0 220h160v-160H400v160ZM180-400h160v-160H180v160Zm440 0h160v-160H620v160ZM180-180h160v-160H180v160Zm440 0h160v-160H620v160Z\"/>\n",
              "  </svg>\n",
              "    </button>\n",
              "\n",
              "  <style>\n",
              "    .colab-df-container {\n",
              "      display:flex;\n",
              "      gap: 12px;\n",
              "    }\n",
              "\n",
              "    .colab-df-convert {\n",
              "      background-color: #E8F0FE;\n",
              "      border: none;\n",
              "      border-radius: 50%;\n",
              "      cursor: pointer;\n",
              "      display: none;\n",
              "      fill: #1967D2;\n",
              "      height: 32px;\n",
              "      padding: 0 0 0 0;\n",
              "      width: 32px;\n",
              "    }\n",
              "\n",
              "    .colab-df-convert:hover {\n",
              "      background-color: #E2EBFA;\n",
              "      box-shadow: 0px 1px 2px rgba(60, 64, 67, 0.3), 0px 1px 3px 1px rgba(60, 64, 67, 0.15);\n",
              "      fill: #174EA6;\n",
              "    }\n",
              "\n",
              "    .colab-df-buttons div {\n",
              "      margin-bottom: 4px;\n",
              "    }\n",
              "\n",
              "    [theme=dark] .colab-df-convert {\n",
              "      background-color: #3B4455;\n",
              "      fill: #D2E3FC;\n",
              "    }\n",
              "\n",
              "    [theme=dark] .colab-df-convert:hover {\n",
              "      background-color: #434B5C;\n",
              "      box-shadow: 0px 1px 3px 1px rgba(0, 0, 0, 0.15);\n",
              "      filter: drop-shadow(0px 1px 2px rgba(0, 0, 0, 0.3));\n",
              "      fill: #FFFFFF;\n",
              "    }\n",
              "  </style>\n",
              "\n",
              "    <script>\n",
              "      const buttonEl =\n",
              "        document.querySelector('#df-74ddc38e-e8c4-4c0a-ab10-7cfbc1713345 button.colab-df-convert');\n",
              "      buttonEl.style.display =\n",
              "        google.colab.kernel.accessAllowed ? 'block' : 'none';\n",
              "\n",
              "      async function convertToInteractive(key) {\n",
              "        const element = document.querySelector('#df-74ddc38e-e8c4-4c0a-ab10-7cfbc1713345');\n",
              "        const dataTable =\n",
              "          await google.colab.kernel.invokeFunction('convertToInteractive',\n",
              "                                                    [key], {});\n",
              "        if (!dataTable) return;\n",
              "\n",
              "        const docLinkHtml = 'Like what you see? Visit the ' +\n",
              "          '<a target=\"_blank\" href=https://colab.research.google.com/notebooks/data_table.ipynb>data table notebook</a>'\n",
              "          + ' to learn more about interactive tables.';\n",
              "        element.innerHTML = '';\n",
              "        dataTable['output_type'] = 'display_data';\n",
              "        await google.colab.output.renderOutput(dataTable, element);\n",
              "        const docLink = document.createElement('div');\n",
              "        docLink.innerHTML = docLinkHtml;\n",
              "        element.appendChild(docLink);\n",
              "      }\n",
              "    </script>\n",
              "  </div>\n",
              "\n",
              "\n",
              "<div id=\"df-d8490777-00c6-4f57-a78d-42bf5802862e\">\n",
              "  <button class=\"colab-df-quickchart\" onclick=\"quickchart('df-d8490777-00c6-4f57-a78d-42bf5802862e')\"\n",
              "            title=\"Suggest charts\"\n",
              "            style=\"display:none;\">\n",
              "\n",
              "<svg xmlns=\"http://www.w3.org/2000/svg\" height=\"24px\"viewBox=\"0 0 24 24\"\n",
              "     width=\"24px\">\n",
              "    <g>\n",
              "        <path d=\"M19 3H5c-1.1 0-2 .9-2 2v14c0 1.1.9 2 2 2h14c1.1 0 2-.9 2-2V5c0-1.1-.9-2-2-2zM9 17H7v-7h2v7zm4 0h-2V7h2v10zm4 0h-2v-4h2v4z\"/>\n",
              "    </g>\n",
              "</svg>\n",
              "  </button>\n",
              "\n",
              "<style>\n",
              "  .colab-df-quickchart {\n",
              "      --bg-color: #E8F0FE;\n",
              "      --fill-color: #1967D2;\n",
              "      --hover-bg-color: #E2EBFA;\n",
              "      --hover-fill-color: #174EA6;\n",
              "      --disabled-fill-color: #AAA;\n",
              "      --disabled-bg-color: #DDD;\n",
              "  }\n",
              "\n",
              "  [theme=dark] .colab-df-quickchart {\n",
              "      --bg-color: #3B4455;\n",
              "      --fill-color: #D2E3FC;\n",
              "      --hover-bg-color: #434B5C;\n",
              "      --hover-fill-color: #FFFFFF;\n",
              "      --disabled-bg-color: #3B4455;\n",
              "      --disabled-fill-color: #666;\n",
              "  }\n",
              "\n",
              "  .colab-df-quickchart {\n",
              "    background-color: var(--bg-color);\n",
              "    border: none;\n",
              "    border-radius: 50%;\n",
              "    cursor: pointer;\n",
              "    display: none;\n",
              "    fill: var(--fill-color);\n",
              "    height: 32px;\n",
              "    padding: 0;\n",
              "    width: 32px;\n",
              "  }\n",
              "\n",
              "  .colab-df-quickchart:hover {\n",
              "    background-color: var(--hover-bg-color);\n",
              "    box-shadow: 0 1px 2px rgba(60, 64, 67, 0.3), 0 1px 3px 1px rgba(60, 64, 67, 0.15);\n",
              "    fill: var(--button-hover-fill-color);\n",
              "  }\n",
              "\n",
              "  .colab-df-quickchart-complete:disabled,\n",
              "  .colab-df-quickchart-complete:disabled:hover {\n",
              "    background-color: var(--disabled-bg-color);\n",
              "    fill: var(--disabled-fill-color);\n",
              "    box-shadow: none;\n",
              "  }\n",
              "\n",
              "  .colab-df-spinner {\n",
              "    border: 2px solid var(--fill-color);\n",
              "    border-color: transparent;\n",
              "    border-bottom-color: var(--fill-color);\n",
              "    animation:\n",
              "      spin 1s steps(1) infinite;\n",
              "  }\n",
              "\n",
              "  @keyframes spin {\n",
              "    0% {\n",
              "      border-color: transparent;\n",
              "      border-bottom-color: var(--fill-color);\n",
              "      border-left-color: var(--fill-color);\n",
              "    }\n",
              "    20% {\n",
              "      border-color: transparent;\n",
              "      border-left-color: var(--fill-color);\n",
              "      border-top-color: var(--fill-color);\n",
              "    }\n",
              "    30% {\n",
              "      border-color: transparent;\n",
              "      border-left-color: var(--fill-color);\n",
              "      border-top-color: var(--fill-color);\n",
              "      border-right-color: var(--fill-color);\n",
              "    }\n",
              "    40% {\n",
              "      border-color: transparent;\n",
              "      border-right-color: var(--fill-color);\n",
              "      border-top-color: var(--fill-color);\n",
              "    }\n",
              "    60% {\n",
              "      border-color: transparent;\n",
              "      border-right-color: var(--fill-color);\n",
              "    }\n",
              "    80% {\n",
              "      border-color: transparent;\n",
              "      border-right-color: var(--fill-color);\n",
              "      border-bottom-color: var(--fill-color);\n",
              "    }\n",
              "    90% {\n",
              "      border-color: transparent;\n",
              "      border-bottom-color: var(--fill-color);\n",
              "    }\n",
              "  }\n",
              "</style>\n",
              "\n",
              "  <script>\n",
              "    async function quickchart(key) {\n",
              "      const quickchartButtonEl =\n",
              "        document.querySelector('#' + key + ' button');\n",
              "      quickchartButtonEl.disabled = true;  // To prevent multiple clicks.\n",
              "      quickchartButtonEl.classList.add('colab-df-spinner');\n",
              "      try {\n",
              "        const charts = await google.colab.kernel.invokeFunction(\n",
              "            'suggestCharts', [key], {});\n",
              "      } catch (error) {\n",
              "        console.error('Error during call to suggestCharts:', error);\n",
              "      }\n",
              "      quickchartButtonEl.classList.remove('colab-df-spinner');\n",
              "      quickchartButtonEl.classList.add('colab-df-quickchart-complete');\n",
              "    }\n",
              "    (() => {\n",
              "      let quickchartButtonEl =\n",
              "        document.querySelector('#df-d8490777-00c6-4f57-a78d-42bf5802862e button');\n",
              "      quickchartButtonEl.style.display =\n",
              "        google.colab.kernel.accessAllowed ? 'block' : 'none';\n",
              "    })();\n",
              "  </script>\n",
              "</div>\n",
              "    </div>\n",
              "  </div>\n"
            ],
            "application/vnd.google.colaboratory.intrinsic+json": {
              "type": "dataframe",
              "variable_name": "df",
              "summary": "{\n  \"name\": \"df\",\n  \"rows\": 2,\n  \"fields\": [\n    {\n      \"column\": \"PC1\",\n      \"properties\": {\n        \"dtype\": \"number\",\n        \"std\": 0.0,\n        \"min\": 0.4106299446024139,\n        \"max\": 0.4106299446024139,\n        \"num_unique_values\": 1,\n        \"samples\": [\n          0.4106299446024139\n        ],\n        \"semantic_type\": \"\",\n        \"description\": \"\"\n      }\n    },\n    {\n      \"column\": \"PC2\",\n      \"properties\": {\n        \"dtype\": \"number\",\n        \"std\": 0.29035921838662326,\n        \"min\": 0.2896043931931164,\n        \"max\": 0.7002343377955303,\n        \"num_unique_values\": 2,\n        \"samples\": [\n          0.7002343377955303\n        ],\n        \"semantic_type\": \"\",\n        \"description\": \"\"\n      }\n    },\n    {\n      \"column\": \"PC3\",\n      \"properties\": {\n        \"dtype\": \"number\",\n        \"std\": 0.49514044867489104,\n        \"min\": 0.13589082308160697,\n        \"max\": 0.8361251608771373,\n        \"num_unique_values\": 2,\n        \"samples\": [\n          0.8361251608771373\n        ],\n        \"semantic_type\": \"\",\n        \"description\": \"\"\n      }\n    },\n    {\n      \"column\": \"PC4\",\n      \"properties\": {\n        \"dtype\": \"number\",\n        \"std\": 0.5912297711769168,\n        \"min\": 0.10193430934872892,\n        \"max\": 0.9380594702258662,\n        \"num_unique_values\": 2,\n        \"samples\": [\n          0.9380594702258662\n        ],\n        \"semantic_type\": \"\",\n        \"description\": \"\"\n      }\n    },\n    {\n      \"column\": \"PC5\",\n      \"properties\": {\n        \"dtype\": \"number\",\n        \"std\": 0.6633082125529702,\n        \"min\": 0.052294213088833086,\n        \"max\": 0.9903536833146993,\n        \"num_unique_values\": 2,\n        \"samples\": [\n          0.9903536833146993\n        ],\n        \"semantic_type\": \"\",\n        \"description\": \"\"\n      }\n    },\n    {\n      \"column\": \"PC6\",\n      \"properties\": {\n        \"dtype\": \"number\",\n        \"std\": 0.7002858052448985,\n        \"min\": 0.006042288024620555,\n        \"max\": 0.9963959713393199,\n        \"num_unique_values\": 2,\n        \"samples\": [\n          0.9963959713393199\n        ],\n        \"semantic_type\": \"\",\n        \"description\": \"\"\n      }\n    },\n    {\n      \"column\": \"PC7\",\n      \"properties\": {\n        \"dtype\": \"number\",\n        \"std\": 0.7045583480809899,\n        \"min\": 0.0029908964600699837,\n        \"max\": 0.9993868677993899,\n        \"num_unique_values\": 2,\n        \"samples\": [\n          0.9993868677993899\n        ],\n        \"semantic_type\": \"\",\n        \"description\": \"\"\n      }\n    },\n    {\n      \"column\": \"PC8\",\n      \"properties\": {\n        \"dtype\": \"number\",\n        \"std\": 0.7066732312497324,\n        \"min\": 0.0006131322006100864,\n        \"max\": 1.0,\n        \"num_unique_values\": 2,\n        \"samples\": [\n          1.0\n        ],\n        \"semantic_type\": \"\",\n        \"description\": \"\"\n      }\n    }\n  ]\n}"
            }
          },
          "metadata": {},
          "execution_count": 16
        }
      ]
    },
    {
      "cell_type": "markdown",
      "source": [
        "Following which we display the percentage each known dataset parameter (in this case, each type of US security) contributes to each principal component:"
      ],
      "metadata": {
        "id": "OapzCdns0VD1"
      }
    },
    {
      "cell_type": "code",
      "source": [
        "# Loadings of the Principal Components\n",
        "loadings = pca.components_.T\n",
        "loadings_df = pd.DataFrame(loadings, index=cols, columns=columns)\n",
        "loadings_df"
      ],
      "metadata": {
        "id": "vUCcVhKN1rlR",
        "colab": {
          "base_uri": "https://localhost:8080/",
          "height": 300
        },
        "outputId": "5a0f3a0b-1371-4c1a-a412-ed5a18659a51"
      },
      "execution_count": null,
      "outputs": [
        {
          "output_type": "execute_result",
          "data": {
            "text/plain": [
              "                             PC1       PC2       PC3       PC4       PC5  \\\n",
              "S&P 500                -0.345781  0.481324  0.008519  0.099117  0.346078   \n",
              "Dividends              -0.316692  0.499696  0.064253  0.139044  0.379710   \n",
              "Dividend Yield          0.213674 -0.479693 -0.149303  0.065089  0.831230   \n",
              "T.Bond rate             0.492732  0.256173 -0.137814  0.108640 -0.013065   \n",
              "Return on bond          0.174610  0.101930  0.639452 -0.715212  0.182120   \n",
              "Aaa Bond Rate           0.476631  0.321265 -0.053292  0.093286 -0.021928   \n",
              "Baa Bond Rate           0.483123  0.278389  0.038148  0.155765  0.099966   \n",
              "Returns on Real Estate -0.025032  0.178324 -0.735745 -0.640554  0.035991   \n",
              "\n",
              "                             PC6       PC7       PC8  \n",
              "S&P 500                -0.023624  0.714523  0.089413  \n",
              "Dividends              -0.069838 -0.683089 -0.104309  \n",
              "Dividend Yield         -0.052656  0.007085  0.062808  \n",
              "T.Bond rate            -0.618477  0.103055 -0.517194  \n",
              "Return on bond         -0.067653  0.019921 -0.023517  \n",
              "Aaa Bond Rate          -0.137608 -0.091339  0.793921  \n",
              "Baa Bond Rate           0.757320  0.035899 -0.280282  \n",
              "Returns on Real Estate  0.110596 -0.046331 -0.016420  "
            ],
            "text/html": [
              "\n",
              "  <div id=\"df-eea988c6-5ecf-4432-8ef0-6c08c497d63f\" class=\"colab-df-container\">\n",
              "    <div>\n",
              "<style scoped>\n",
              "    .dataframe tbody tr th:only-of-type {\n",
              "        vertical-align: middle;\n",
              "    }\n",
              "\n",
              "    .dataframe tbody tr th {\n",
              "        vertical-align: top;\n",
              "    }\n",
              "\n",
              "    .dataframe thead th {\n",
              "        text-align: right;\n",
              "    }\n",
              "</style>\n",
              "<table border=\"1\" class=\"dataframe\">\n",
              "  <thead>\n",
              "    <tr style=\"text-align: right;\">\n",
              "      <th></th>\n",
              "      <th>PC1</th>\n",
              "      <th>PC2</th>\n",
              "      <th>PC3</th>\n",
              "      <th>PC4</th>\n",
              "      <th>PC5</th>\n",
              "      <th>PC6</th>\n",
              "      <th>PC7</th>\n",
              "      <th>PC8</th>\n",
              "    </tr>\n",
              "  </thead>\n",
              "  <tbody>\n",
              "    <tr>\n",
              "      <th>S&amp;P 500</th>\n",
              "      <td>-0.345781</td>\n",
              "      <td>0.481324</td>\n",
              "      <td>0.008519</td>\n",
              "      <td>0.099117</td>\n",
              "      <td>0.346078</td>\n",
              "      <td>-0.023624</td>\n",
              "      <td>0.714523</td>\n",
              "      <td>0.089413</td>\n",
              "    </tr>\n",
              "    <tr>\n",
              "      <th>Dividends</th>\n",
              "      <td>-0.316692</td>\n",
              "      <td>0.499696</td>\n",
              "      <td>0.064253</td>\n",
              "      <td>0.139044</td>\n",
              "      <td>0.379710</td>\n",
              "      <td>-0.069838</td>\n",
              "      <td>-0.683089</td>\n",
              "      <td>-0.104309</td>\n",
              "    </tr>\n",
              "    <tr>\n",
              "      <th>Dividend Yield</th>\n",
              "      <td>0.213674</td>\n",
              "      <td>-0.479693</td>\n",
              "      <td>-0.149303</td>\n",
              "      <td>0.065089</td>\n",
              "      <td>0.831230</td>\n",
              "      <td>-0.052656</td>\n",
              "      <td>0.007085</td>\n",
              "      <td>0.062808</td>\n",
              "    </tr>\n",
              "    <tr>\n",
              "      <th>T.Bond rate</th>\n",
              "      <td>0.492732</td>\n",
              "      <td>0.256173</td>\n",
              "      <td>-0.137814</td>\n",
              "      <td>0.108640</td>\n",
              "      <td>-0.013065</td>\n",
              "      <td>-0.618477</td>\n",
              "      <td>0.103055</td>\n",
              "      <td>-0.517194</td>\n",
              "    </tr>\n",
              "    <tr>\n",
              "      <th>Return on bond</th>\n",
              "      <td>0.174610</td>\n",
              "      <td>0.101930</td>\n",
              "      <td>0.639452</td>\n",
              "      <td>-0.715212</td>\n",
              "      <td>0.182120</td>\n",
              "      <td>-0.067653</td>\n",
              "      <td>0.019921</td>\n",
              "      <td>-0.023517</td>\n",
              "    </tr>\n",
              "    <tr>\n",
              "      <th>Aaa Bond Rate</th>\n",
              "      <td>0.476631</td>\n",
              "      <td>0.321265</td>\n",
              "      <td>-0.053292</td>\n",
              "      <td>0.093286</td>\n",
              "      <td>-0.021928</td>\n",
              "      <td>-0.137608</td>\n",
              "      <td>-0.091339</td>\n",
              "      <td>0.793921</td>\n",
              "    </tr>\n",
              "    <tr>\n",
              "      <th>Baa Bond Rate</th>\n",
              "      <td>0.483123</td>\n",
              "      <td>0.278389</td>\n",
              "      <td>0.038148</td>\n",
              "      <td>0.155765</td>\n",
              "      <td>0.099966</td>\n",
              "      <td>0.757320</td>\n",
              "      <td>0.035899</td>\n",
              "      <td>-0.280282</td>\n",
              "    </tr>\n",
              "    <tr>\n",
              "      <th>Returns on Real Estate</th>\n",
              "      <td>-0.025032</td>\n",
              "      <td>0.178324</td>\n",
              "      <td>-0.735745</td>\n",
              "      <td>-0.640554</td>\n",
              "      <td>0.035991</td>\n",
              "      <td>0.110596</td>\n",
              "      <td>-0.046331</td>\n",
              "      <td>-0.016420</td>\n",
              "    </tr>\n",
              "  </tbody>\n",
              "</table>\n",
              "</div>\n",
              "    <div class=\"colab-df-buttons\">\n",
              "\n",
              "  <div class=\"colab-df-container\">\n",
              "    <button class=\"colab-df-convert\" onclick=\"convertToInteractive('df-eea988c6-5ecf-4432-8ef0-6c08c497d63f')\"\n",
              "            title=\"Convert this dataframe to an interactive table.\"\n",
              "            style=\"display:none;\">\n",
              "\n",
              "  <svg xmlns=\"http://www.w3.org/2000/svg\" height=\"24px\" viewBox=\"0 -960 960 960\">\n",
              "    <path d=\"M120-120v-720h720v720H120Zm60-500h600v-160H180v160Zm220 220h160v-160H400v160Zm0 220h160v-160H400v160ZM180-400h160v-160H180v160Zm440 0h160v-160H620v160ZM180-180h160v-160H180v160Zm440 0h160v-160H620v160Z\"/>\n",
              "  </svg>\n",
              "    </button>\n",
              "\n",
              "  <style>\n",
              "    .colab-df-container {\n",
              "      display:flex;\n",
              "      gap: 12px;\n",
              "    }\n",
              "\n",
              "    .colab-df-convert {\n",
              "      background-color: #E8F0FE;\n",
              "      border: none;\n",
              "      border-radius: 50%;\n",
              "      cursor: pointer;\n",
              "      display: none;\n",
              "      fill: #1967D2;\n",
              "      height: 32px;\n",
              "      padding: 0 0 0 0;\n",
              "      width: 32px;\n",
              "    }\n",
              "\n",
              "    .colab-df-convert:hover {\n",
              "      background-color: #E2EBFA;\n",
              "      box-shadow: 0px 1px 2px rgba(60, 64, 67, 0.3), 0px 1px 3px 1px rgba(60, 64, 67, 0.15);\n",
              "      fill: #174EA6;\n",
              "    }\n",
              "\n",
              "    .colab-df-buttons div {\n",
              "      margin-bottom: 4px;\n",
              "    }\n",
              "\n",
              "    [theme=dark] .colab-df-convert {\n",
              "      background-color: #3B4455;\n",
              "      fill: #D2E3FC;\n",
              "    }\n",
              "\n",
              "    [theme=dark] .colab-df-convert:hover {\n",
              "      background-color: #434B5C;\n",
              "      box-shadow: 0px 1px 3px 1px rgba(0, 0, 0, 0.15);\n",
              "      filter: drop-shadow(0px 1px 2px rgba(0, 0, 0, 0.3));\n",
              "      fill: #FFFFFF;\n",
              "    }\n",
              "  </style>\n",
              "\n",
              "    <script>\n",
              "      const buttonEl =\n",
              "        document.querySelector('#df-eea988c6-5ecf-4432-8ef0-6c08c497d63f button.colab-df-convert');\n",
              "      buttonEl.style.display =\n",
              "        google.colab.kernel.accessAllowed ? 'block' : 'none';\n",
              "\n",
              "      async function convertToInteractive(key) {\n",
              "        const element = document.querySelector('#df-eea988c6-5ecf-4432-8ef0-6c08c497d63f');\n",
              "        const dataTable =\n",
              "          await google.colab.kernel.invokeFunction('convertToInteractive',\n",
              "                                                    [key], {});\n",
              "        if (!dataTable) return;\n",
              "\n",
              "        const docLinkHtml = 'Like what you see? Visit the ' +\n",
              "          '<a target=\"_blank\" href=https://colab.research.google.com/notebooks/data_table.ipynb>data table notebook</a>'\n",
              "          + ' to learn more about interactive tables.';\n",
              "        element.innerHTML = '';\n",
              "        dataTable['output_type'] = 'display_data';\n",
              "        await google.colab.output.renderOutput(dataTable, element);\n",
              "        const docLink = document.createElement('div');\n",
              "        docLink.innerHTML = docLinkHtml;\n",
              "        element.appendChild(docLink);\n",
              "      }\n",
              "    </script>\n",
              "  </div>\n",
              "\n",
              "\n",
              "<div id=\"df-33f36cda-ba5d-4015-8c59-18a277215a92\">\n",
              "  <button class=\"colab-df-quickchart\" onclick=\"quickchart('df-33f36cda-ba5d-4015-8c59-18a277215a92')\"\n",
              "            title=\"Suggest charts\"\n",
              "            style=\"display:none;\">\n",
              "\n",
              "<svg xmlns=\"http://www.w3.org/2000/svg\" height=\"24px\"viewBox=\"0 0 24 24\"\n",
              "     width=\"24px\">\n",
              "    <g>\n",
              "        <path d=\"M19 3H5c-1.1 0-2 .9-2 2v14c0 1.1.9 2 2 2h14c1.1 0 2-.9 2-2V5c0-1.1-.9-2-2-2zM9 17H7v-7h2v7zm4 0h-2V7h2v10zm4 0h-2v-4h2v4z\"/>\n",
              "    </g>\n",
              "</svg>\n",
              "  </button>\n",
              "\n",
              "<style>\n",
              "  .colab-df-quickchart {\n",
              "      --bg-color: #E8F0FE;\n",
              "      --fill-color: #1967D2;\n",
              "      --hover-bg-color: #E2EBFA;\n",
              "      --hover-fill-color: #174EA6;\n",
              "      --disabled-fill-color: #AAA;\n",
              "      --disabled-bg-color: #DDD;\n",
              "  }\n",
              "\n",
              "  [theme=dark] .colab-df-quickchart {\n",
              "      --bg-color: #3B4455;\n",
              "      --fill-color: #D2E3FC;\n",
              "      --hover-bg-color: #434B5C;\n",
              "      --hover-fill-color: #FFFFFF;\n",
              "      --disabled-bg-color: #3B4455;\n",
              "      --disabled-fill-color: #666;\n",
              "  }\n",
              "\n",
              "  .colab-df-quickchart {\n",
              "    background-color: var(--bg-color);\n",
              "    border: none;\n",
              "    border-radius: 50%;\n",
              "    cursor: pointer;\n",
              "    display: none;\n",
              "    fill: var(--fill-color);\n",
              "    height: 32px;\n",
              "    padding: 0;\n",
              "    width: 32px;\n",
              "  }\n",
              "\n",
              "  .colab-df-quickchart:hover {\n",
              "    background-color: var(--hover-bg-color);\n",
              "    box-shadow: 0 1px 2px rgba(60, 64, 67, 0.3), 0 1px 3px 1px rgba(60, 64, 67, 0.15);\n",
              "    fill: var(--button-hover-fill-color);\n",
              "  }\n",
              "\n",
              "  .colab-df-quickchart-complete:disabled,\n",
              "  .colab-df-quickchart-complete:disabled:hover {\n",
              "    background-color: var(--disabled-bg-color);\n",
              "    fill: var(--disabled-fill-color);\n",
              "    box-shadow: none;\n",
              "  }\n",
              "\n",
              "  .colab-df-spinner {\n",
              "    border: 2px solid var(--fill-color);\n",
              "    border-color: transparent;\n",
              "    border-bottom-color: var(--fill-color);\n",
              "    animation:\n",
              "      spin 1s steps(1) infinite;\n",
              "  }\n",
              "\n",
              "  @keyframes spin {\n",
              "    0% {\n",
              "      border-color: transparent;\n",
              "      border-bottom-color: var(--fill-color);\n",
              "      border-left-color: var(--fill-color);\n",
              "    }\n",
              "    20% {\n",
              "      border-color: transparent;\n",
              "      border-left-color: var(--fill-color);\n",
              "      border-top-color: var(--fill-color);\n",
              "    }\n",
              "    30% {\n",
              "      border-color: transparent;\n",
              "      border-left-color: var(--fill-color);\n",
              "      border-top-color: var(--fill-color);\n",
              "      border-right-color: var(--fill-color);\n",
              "    }\n",
              "    40% {\n",
              "      border-color: transparent;\n",
              "      border-right-color: var(--fill-color);\n",
              "      border-top-color: var(--fill-color);\n",
              "    }\n",
              "    60% {\n",
              "      border-color: transparent;\n",
              "      border-right-color: var(--fill-color);\n",
              "    }\n",
              "    80% {\n",
              "      border-color: transparent;\n",
              "      border-right-color: var(--fill-color);\n",
              "      border-bottom-color: var(--fill-color);\n",
              "    }\n",
              "    90% {\n",
              "      border-color: transparent;\n",
              "      border-bottom-color: var(--fill-color);\n",
              "    }\n",
              "  }\n",
              "</style>\n",
              "\n",
              "  <script>\n",
              "    async function quickchart(key) {\n",
              "      const quickchartButtonEl =\n",
              "        document.querySelector('#' + key + ' button');\n",
              "      quickchartButtonEl.disabled = true;  // To prevent multiple clicks.\n",
              "      quickchartButtonEl.classList.add('colab-df-spinner');\n",
              "      try {\n",
              "        const charts = await google.colab.kernel.invokeFunction(\n",
              "            'suggestCharts', [key], {});\n",
              "      } catch (error) {\n",
              "        console.error('Error during call to suggestCharts:', error);\n",
              "      }\n",
              "      quickchartButtonEl.classList.remove('colab-df-spinner');\n",
              "      quickchartButtonEl.classList.add('colab-df-quickchart-complete');\n",
              "    }\n",
              "    (() => {\n",
              "      let quickchartButtonEl =\n",
              "        document.querySelector('#df-33f36cda-ba5d-4015-8c59-18a277215a92 button');\n",
              "      quickchartButtonEl.style.display =\n",
              "        google.colab.kernel.accessAllowed ? 'block' : 'none';\n",
              "    })();\n",
              "  </script>\n",
              "</div>\n",
              "    </div>\n",
              "  </div>\n"
            ],
            "application/vnd.google.colaboratory.intrinsic+json": {
              "type": "dataframe",
              "variable_name": "loadings_df",
              "summary": "{\n  \"name\": \"loadings_df\",\n  \"rows\": 8,\n  \"fields\": [\n    {\n      \"column\": \"PC1\",\n      \"properties\": {\n        \"dtype\": \"number\",\n        \"std\": 0.34511850547306133,\n        \"min\": -0.3457806051820967,\n        \"max\": 0.49273228829933186,\n        \"num_unique_values\": 8,\n        \"samples\": [\n          -0.3166920652662415,\n          0.47663071052188816,\n          -0.3457806051820967\n        ],\n        \"semantic_type\": \"\",\n        \"description\": \"\"\n      }\n    },\n    {\n      \"column\": \"PC2\",\n      \"properties\": {\n        \"dtype\": \"number\",\n        \"std\": 0.3081885686892298,\n        \"min\": -0.47969264781479043,\n        \"max\": 0.4996961462823768,\n        \"num_unique_values\": 8,\n        \"samples\": [\n          0.4996961462823768,\n          0.3212649435829313,\n          0.48132431442133805\n        ],\n        \"semantic_type\": \"\",\n        \"description\": \"\"\n      }\n    },\n    {\n      \"column\": \"PC3\",\n      \"properties\": {\n        \"dtype\": \"number\",\n        \"std\": 0.3754489115925061,\n        \"min\": -0.7357452261572976,\n        \"max\": 0.6394518143886803,\n        \"num_unique_values\": 8,\n        \"samples\": [\n          0.06425284579388689,\n          -0.05329249734016946,\n          0.008518978168359274\n        ],\n        \"semantic_type\": \"\",\n        \"description\": \"\"\n      }\n    },\n    {\n      \"column\": \"PC4\",\n      \"properties\": {\n        \"dtype\": \"number\",\n        \"std\": 0.36638236906296096,\n        \"min\": -0.7152121229202566,\n        \"max\": 0.15576548041641938,\n        \"num_unique_values\": 8,\n        \"samples\": [\n          0.13904360965557644,\n          0.09328613453252256,\n          0.09911698256814301\n        ],\n        \"semantic_type\": \"\",\n        \"description\": \"\"\n      }\n    },\n    {\n      \"column\": \"PC5\",\n      \"properties\": {\n        \"dtype\": \"number\",\n        \"std\": 0.2870423083738347,\n        \"min\": -0.02192775128852496,\n        \"max\": 0.8312297548775496,\n        \"num_unique_values\": 8,\n        \"samples\": [\n          0.37970985586021955,\n          -0.02192775128852496,\n          0.34607760490213063\n        ],\n        \"semantic_type\": \"\",\n        \"description\": \"\"\n      }\n    },\n    {\n      \"column\": \"PC6\",\n      \"properties\": {\n        \"dtype\": \"number\",\n        \"std\": 0.37771890429648686,\n        \"min\": -0.6184774732422031,\n        \"max\": 0.7573195996374976,\n        \"num_unique_values\": 8,\n        \"samples\": [\n          -0.06983836435626632,\n          -0.13760816588970812,\n          -0.023623763914984768\n        ],\n        \"semantic_type\": \"\",\n        \"description\": \"\"\n      }\n    },\n    {\n      \"column\": \"PC7\",\n      \"properties\": {\n        \"dtype\": \"number\",\n        \"std\": 0.37788020081762774,\n        \"min\": -0.6830892483364024,\n        \"max\": 0.7145232503357513,\n        \"num_unique_values\": 8,\n        \"samples\": [\n          -0.6830892483364024,\n          -0.09133930492713122,\n          0.7145232503357513\n        ],\n        \"semantic_type\": \"\",\n        \"description\": \"\"\n      }\n    },\n    {\n      \"column\": \"PC8\",\n      \"properties\": {\n        \"dtype\": \"number\",\n        \"std\": 0.3779640116514406,\n        \"min\": -0.5171938582449536,\n        \"max\": 0.7939205920132137,\n        \"num_unique_values\": 8,\n        \"samples\": [\n          -0.10430939863282349,\n          0.7939205920132137,\n          0.08941287433928448\n        ],\n        \"semantic_type\": \"\",\n        \"description\": \"\"\n      }\n    }\n  ]\n}"
            }
          },
          "metadata": {},
          "execution_count": 17
        }
      ]
    },
    {
      "cell_type": "markdown",
      "source": [
        "From which we note that Treasury bond rates, BAA bond rates, S&P500 and S&P500 Dividends are the parameters contributing the greatest proportions of the variance to each principal component. It would hence be sensible for us to reduce our model parameters to these parameters were we seeking to reduce model dimensionality.\n",
        "\n",
        "We can perform OLS regression using two of our extracted features to assess the strength of their linear correlation – in this case, we perform this with Treasury bond rates and BAA bond rates, as shown below:"
      ],
      "metadata": {
        "id": "llbpPSZn0X2_"
      }
    },
    {
      "cell_type": "code",
      "source": [
        "# Using the insights gathered from the loadings df to perform OLS regression\n",
        "X = data[\"S&P 500\"]\n",
        "Y = data[\"Baa Bond Rate\"]\n",
        "data_ols = pd.DataFrame({'x':X, 'y':Y})\n",
        "model = smf.ols(\"y ~ x\", data=data_ols)\n",
        "results = model.fit()\n",
        "print(results.summary())"
      ],
      "metadata": {
        "id": "tNPM8y942OOX",
        "colab": {
          "base_uri": "https://localhost:8080/"
        },
        "outputId": "2f81a754-220f-4025-d56a-c8633b8d2a95"
      },
      "execution_count": null,
      "outputs": [
        {
          "output_type": "stream",
          "name": "stdout",
          "text": [
            "                            OLS Regression Results                            \n",
            "==============================================================================\n",
            "Dep. Variable:                      y   R-squared:                       0.045\n",
            "Model:                            OLS   Adj. R-squared:                  0.034\n",
            "Method:                 Least Squares   F-statistic:                     4.393\n",
            "Date:                Mon, 17 Jun 2024   Prob (F-statistic):             0.0388\n",
            "Time:                        13:30:27   Log-Likelihood:                 205.31\n",
            "No. Observations:                  96   AIC:                            -406.6\n",
            "Df Residuals:                      94   BIC:                            -401.5\n",
            "Df Model:                           1                                         \n",
            "Covariance Type:            nonrobust                                         \n",
            "==============================================================================\n",
            "                 coef    std err          t      P>|t|      [0.025      0.975]\n",
            "------------------------------------------------------------------------------\n",
            "Intercept      0.0720      0.003     20.846      0.000       0.065       0.079\n",
            "x          -5.959e-06   2.84e-06     -2.096      0.039   -1.16e-05   -3.14e-07\n",
            "==============================================================================\n",
            "Omnibus:                       13.303   Durbin-Watson:                   0.121\n",
            "Prob(Omnibus):                  0.001   Jarque-Bera (JB):               14.221\n",
            "Skew:                           0.874   Prob(JB):                     0.000816\n",
            "Kurtosis:                       3.705   Cond. No.                     1.43e+03\n",
            "==============================================================================\n",
            "\n",
            "Notes:\n",
            "[1] Standard Errors assume that the covariance matrix of the errors is correctly specified.\n",
            "[2] The condition number is large, 1.43e+03. This might indicate that there are\n",
            "strong multicollinearity or other numerical problems.\n"
          ]
        }
      ]
    },
    {
      "cell_type": "markdown",
      "source": [
        "The low adjusted R-squared value of our model tells us that Treasury bond rate changes and BAA bond rate changes are virtually independent of each other, making them suitable separate parameters to use in modelling a third security that is not strongly correlated to either of them."
      ],
      "metadata": {
        "id": "W1nDBSCF0gz4"
      }
    },
    {
      "cell_type": "markdown",
      "source": [
        "# **Diagnosis**"
      ],
      "metadata": {
        "id": "3p6u2Snp5f0F"
      }
    },
    {
      "cell_type": "markdown",
      "source": [
        "Data that consists of many variables (a dataset with e.g. > 50 columns to be used) can be preprocessed using a feature extraction method."
      ],
      "metadata": {
        "id": "L_ZMXz1b7OVB"
      }
    },
    {
      "cell_type": "markdown",
      "source": [
        "# **Damage**"
      ],
      "metadata": {
        "id": "1OTSGk1C5f0F"
      }
    },
    {
      "cell_type": "markdown",
      "source": [
        "Neglecting to preprocess data using feature extraction will undermine the accuracy of model results. Feature extraction not only helps reduce model complexity and hence the probability of overfitting; if done correctly, issues of multicollinearity can also be mitigated with the reduced set of features."
      ],
      "metadata": {
        "id": "PN7jt_x37RAx"
      }
    },
    {
      "cell_type": "markdown",
      "source": [
        "# **Directions**"
      ],
      "metadata": {
        "id": "t8R_u_ZF5f0G"
      }
    },
    {
      "cell_type": "markdown",
      "source": [
        "High-dimensionality data should first be pre-processed using a feature extraction method; in the demonstration above, we revert to the classic transformation of Principal Component Analysis (PCA) to select a limited number of features which best explain variations in our time series. Once the variables have been identified, the analyst can then proceed to use a regression method or an alternative suitable method depending on the nature of the data (stationary/non-stationary; conduct further tests such as the unit root test to verify this). PCA will not affect other properties of the data such as its stationarity; in the case of non-stationary data, parametric regression methods should not be used; instead, a class of regime change models, e.g. state space models, should be considered."
      ],
      "metadata": {
        "id": "MQAsm2YW7T3J"
      }
    },
    {
      "cell_type": "markdown",
      "source": [
        "# **References**"
      ],
      "metadata": {
        "id": "UY-wTeoUzP7I"
      }
    },
    {
      "cell_type": "markdown",
      "source": [
        "FilterPy. (2024, June 1). KalmanFilter. Retrieved from FilterPy documentation: https://filterpy.readthedocs.io/en/latest/kalman/KalmanFilter.html?highlight=get_sensor_reading#kalmanfilter\n",
        "\n",
        "NYU Stern School of Business. (2024, May 27). Annual Returns on Stock, T.Bonds and T.Bills: 1928 - Current. Retrieved from NYU Stern School of Business: https://pages.stern.nyu.edu/~adamodar/New_Home_Page/datafile/histretSPX.html\n",
        "\n",
        "Srivastava, S. (2020, June 14). Regime Shift Models – A Fascinating Use Case of Time Series Modeling. Retrieved from Analytics Vidhya: https://www.analyticsvidhya.com/blog/2019/10/regime-shift-models-time-series-modeling-financial-markets/\n",
        "\n",
        "Yahoo. (2024, June 1). AAPL. Retrieved from Yahoo Finance: https://finance.yahoo.com/quote/AAPL/history/?period1=1451606400&period2=1640908800&interval=1mo&filter=history&frequency=1mo\n",
        "\n",
        "Yahoo. (2024, June 1). AMZN. Retrieved from Yahoo Finance: https://finance.yahoo.com/quote/AMZN/history/?frequency=1mo\n",
        "\n"
      ],
      "metadata": {
        "id": "5aDH0VWqVEXx"
      }
    }
  ]
}